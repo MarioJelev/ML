{
 "cells": [
  {
   "cell_type": "code",
   "execution_count": 53,
   "metadata": {},
   "outputs": [],
   "source": [
    "from __future__ import print_function\n",
    "\n",
    "import pandas as pd\n",
    "import numpy as np\n",
    "from sklearn.model_selection import train_test_split\n",
    "from sklearn.model_selection import GridSearchCV\n",
    "from sklearn.metrics import classification_report\n",
    "from sklearn.metrics import confusion_matrix\n",
    "from sklearn.metrics import accuracy_score\n",
    "from sklearn.metrics import precision_recall_fscore_support\n",
    "from sklearn.feature_selection import VarianceThreshold\n",
    "from sklearn import preprocessing\n",
    "import math as m\n",
    "\n",
    "\n",
    "from sklearn.svm import SVC\n",
    "from sklearn.tree import DecisionTreeClassifier\n",
    "from sklearn.neural_network import MLPClassifier\n",
    "from sklearn.naive_bayes import GaussianNB\n",
    "from sklearn.linear_model import LogisticRegression\n",
    "from sklearn.neighbors import KNeighborsClassifier\n",
    "from sklearn.ensemble import BaggingClassifier\n",
    "from sklearn.ensemble import RandomForestClassifier\n",
    "from sklearn.ensemble import AdaBoostClassifier\n",
    "from sklearn.ensemble import GradientBoostingClassifier\n",
    "from xgboost import XGBClassifier\n",
    "\n",
    "%matplotlib inline\n",
    "from IPython.core.interactiveshell import InteractiveShell\n",
    "InteractiveShell.ast_node_interactivity = \"all\"\n",
    "pd.options.display.max_rows = 4000"
   ]
  },
  {
   "cell_type": "code",
   "execution_count": 54,
   "metadata": {},
   "outputs": [],
   "source": [
    "data = pd.read_csv(\"train.csv\")\n",
    "target = data['SalePrice']\n"
   ]
  },
  {
   "cell_type": "code",
   "execution_count": 55,
   "metadata": {},
   "outputs": [
    {
     "data": {
      "text/plain": [
       "Id                 int64\n",
       "MSSubClass         int64\n",
       "MSZoning          object\n",
       "LotFrontage      float64\n",
       "LotArea            int64\n",
       "Street            object\n",
       "Alley             object\n",
       "LotShape          object\n",
       "LandContour       object\n",
       "Utilities         object\n",
       "LotConfig         object\n",
       "LandSlope         object\n",
       "Neighborhood      object\n",
       "Condition1        object\n",
       "Condition2        object\n",
       "BldgType          object\n",
       "HouseStyle        object\n",
       "OverallQual        int64\n",
       "OverallCond        int64\n",
       "YearBuilt          int64\n",
       "YearRemodAdd       int64\n",
       "RoofStyle         object\n",
       "RoofMatl          object\n",
       "Exterior1st       object\n",
       "Exterior2nd       object\n",
       "MasVnrType        object\n",
       "MasVnrArea       float64\n",
       "ExterQual         object\n",
       "ExterCond         object\n",
       "Foundation        object\n",
       "BsmtQual          object\n",
       "BsmtCond          object\n",
       "BsmtExposure      object\n",
       "BsmtFinType1      object\n",
       "BsmtFinSF1         int64\n",
       "BsmtFinType2      object\n",
       "BsmtFinSF2         int64\n",
       "BsmtUnfSF          int64\n",
       "TotalBsmtSF        int64\n",
       "Heating           object\n",
       "HeatingQC         object\n",
       "CentralAir        object\n",
       "Electrical        object\n",
       "1stFlrSF           int64\n",
       "2ndFlrSF           int64\n",
       "LowQualFinSF       int64\n",
       "GrLivArea          int64\n",
       "BsmtFullBath       int64\n",
       "BsmtHalfBath       int64\n",
       "FullBath           int64\n",
       "HalfBath           int64\n",
       "BedroomAbvGr       int64\n",
       "KitchenAbvGr       int64\n",
       "KitchenQual       object\n",
       "TotRmsAbvGrd       int64\n",
       "Functional        object\n",
       "Fireplaces         int64\n",
       "FireplaceQu       object\n",
       "GarageType        object\n",
       "GarageYrBlt      float64\n",
       "GarageFinish      object\n",
       "GarageCars         int64\n",
       "GarageArea         int64\n",
       "GarageQual        object\n",
       "GarageCond        object\n",
       "PavedDrive        object\n",
       "WoodDeckSF         int64\n",
       "OpenPorchSF        int64\n",
       "EnclosedPorch      int64\n",
       "3SsnPorch          int64\n",
       "ScreenPorch        int64\n",
       "PoolArea           int64\n",
       "PoolQC            object\n",
       "Fence             object\n",
       "MiscFeature       object\n",
       "MiscVal            int64\n",
       "MoSold             int64\n",
       "YrSold             int64\n",
       "SaleType          object\n",
       "SaleCondition     object\n",
       "SalePrice          int64\n",
       "dtype: object"
      ]
     },
     "execution_count": 55,
     "metadata": {},
     "output_type": "execute_result"
    },
    {
     "data": {
      "text/plain": [
       "(1460, 81)"
      ]
     },
     "execution_count": 55,
     "metadata": {},
     "output_type": "execute_result"
    }
   ],
   "source": [
    "data.dtypes\n",
    "data.shape\n",
    "\n"
   ]
  },
  {
   "cell_type": "markdown",
   "metadata": {},
   "source": [
    "### Drop columns that are missing at least than 25% of their values"
   ]
  },
  {
   "cell_type": "code",
   "execution_count": 56,
   "metadata": {},
   "outputs": [
    {
     "data": {
      "text/plain": [
       "PoolQC           0.995205\n",
       "MiscFeature      0.963014\n",
       "Alley            0.937671\n",
       "Fence            0.807534\n",
       "FireplaceQu      0.472603\n",
       "LotFrontage      0.177397\n",
       "GarageCond       0.055479\n",
       "GarageType       0.055479\n",
       "GarageYrBlt      0.055479\n",
       "GarageFinish     0.055479\n",
       "GarageQual       0.055479\n",
       "BsmtExposure     0.026027\n",
       "BsmtFinType2     0.026027\n",
       "BsmtFinType1     0.025342\n",
       "BsmtCond         0.025342\n",
       "BsmtQual         0.025342\n",
       "MasVnrArea       0.005479\n",
       "MasVnrType       0.005479\n",
       "Electrical       0.000685\n",
       "Utilities        0.000000\n",
       "YearRemodAdd     0.000000\n",
       "MSSubClass       0.000000\n",
       "Foundation       0.000000\n",
       "ExterCond        0.000000\n",
       "ExterQual        0.000000\n",
       "Exterior2nd      0.000000\n",
       "Exterior1st      0.000000\n",
       "RoofMatl         0.000000\n",
       "RoofStyle        0.000000\n",
       "YearBuilt        0.000000\n",
       "LotConfig        0.000000\n",
       "OverallCond      0.000000\n",
       "OverallQual      0.000000\n",
       "HouseStyle       0.000000\n",
       "BldgType         0.000000\n",
       "Condition2       0.000000\n",
       "BsmtFinSF1       0.000000\n",
       "MSZoning         0.000000\n",
       "LotArea          0.000000\n",
       "Street           0.000000\n",
       "Condition1       0.000000\n",
       "Neighborhood     0.000000\n",
       "LotShape         0.000000\n",
       "LandContour      0.000000\n",
       "LandSlope        0.000000\n",
       "SalePrice        0.000000\n",
       "HeatingQC        0.000000\n",
       "BsmtFinSF2       0.000000\n",
       "EnclosedPorch    0.000000\n",
       "Fireplaces       0.000000\n",
       "GarageCars       0.000000\n",
       "GarageArea       0.000000\n",
       "PavedDrive       0.000000\n",
       "WoodDeckSF       0.000000\n",
       "OpenPorchSF      0.000000\n",
       "3SsnPorch        0.000000\n",
       "BsmtUnfSF        0.000000\n",
       "ScreenPorch      0.000000\n",
       "PoolArea         0.000000\n",
       "MiscVal          0.000000\n",
       "MoSold           0.000000\n",
       "YrSold           0.000000\n",
       "SaleType         0.000000\n",
       "Functional       0.000000\n",
       "TotRmsAbvGrd     0.000000\n",
       "KitchenQual      0.000000\n",
       "KitchenAbvGr     0.000000\n",
       "BedroomAbvGr     0.000000\n",
       "HalfBath         0.000000\n",
       "FullBath         0.000000\n",
       "BsmtHalfBath     0.000000\n",
       "BsmtFullBath     0.000000\n",
       "GrLivArea        0.000000\n",
       "LowQualFinSF     0.000000\n",
       "2ndFlrSF         0.000000\n",
       "1stFlrSF         0.000000\n",
       "CentralAir       0.000000\n",
       "SaleCondition    0.000000\n",
       "Heating          0.000000\n",
       "TotalBsmtSF      0.000000\n",
       "Id               0.000000\n",
       "dtype: float64"
      ]
     },
     "execution_count": 56,
     "metadata": {},
     "output_type": "execute_result"
    }
   ],
   "source": [
    "data.isna().mean().sort_values(ascending=False)"
   ]
  },
  {
   "cell_type": "code",
   "execution_count": 57,
   "metadata": {},
   "outputs": [
    {
     "data": {
      "text/plain": [
       "Index([u'Alley', u'FireplaceQu', u'PoolQC', u'Fence', u'MiscFeature'], dtype='object')"
      ]
     },
     "execution_count": 57,
     "metadata": {},
     "output_type": "execute_result"
    },
    {
     "data": {
      "text/plain": [
       "(1460, 76)"
      ]
     },
     "execution_count": 57,
     "metadata": {},
     "output_type": "execute_result"
    }
   ],
   "source": [
    "# data.isna().mean().sort_values(ascending=False)\n",
    "cols = [col for col in data.isna().mean() >= .25]\n",
    "data.columns[cols]\n",
    "data.drop(columns = data.columns[cols], axis = 1, inplace = True)\n",
    "\n",
    "data.shape\n"
   ]
  },
  {
   "cell_type": "markdown",
   "metadata": {},
   "source": [
    "### Constant variables"
   ]
  },
  {
   "cell_type": "code",
   "execution_count": 58,
   "metadata": {},
   "outputs": [],
   "source": [
    "# selector = VarianceThreshold(threshold=0.05)\n",
    "# selector.fit(data)\n",
    "# data.columns[selector.get_support()]\n",
    "\n",
    "# cols = [col for col in data.isnull().mean() > 0]\n",
    "# for col in data.columns[cols]:\n",
    "for col in data.columns:\n",
    "    \n",
    "    if data[col].dtype == 'int64' or data[col].dtype == 'float64':\n",
    "        if data[col].std() == 0:\n",
    "            col\n",
    "            data[col].std()\n",
    "    else:\n",
    "        if len(data[col].unique()) == 1:\n",
    "            col\n",
    "            data[col].unique()"
   ]
  },
  {
   "cell_type": "markdown",
   "metadata": {},
   "source": [
    "### Quasi constant variables"
   ]
  },
  {
   "cell_type": "code",
   "execution_count": 59,
   "metadata": {},
   "outputs": [
    {
     "data": {
      "text/plain": [
       "(1460, 66)"
      ]
     },
     "execution_count": 59,
     "metadata": {},
     "output_type": "execute_result"
    }
   ],
   "source": [
    "dfLength = float(len(data))\n",
    "quasConst = []\n",
    "for col in data.columns:\n",
    "    dominating_val_pct = (data[col].value_counts()/ dfLength).sort_values(ascending=False).values[0]\n",
    "    if dominating_val_pct > .95:\n",
    "        quasConst.append(col)\n",
    "        \n",
    "data.drop(inplace = True, columns = quasConst, axis = 1)\n",
    "data.shape"
   ]
  },
  {
   "cell_type": "code",
   "execution_count": 60,
   "metadata": {},
   "outputs": [],
   "source": [
    "data.LotFrontage = data.groupby(['PavedDrive', 'BldgType', 'Neighborhood'])['LotFrontage'].apply(lambda x: x.fillna(x.mean()))\n",
    "# the above leaves some more null values\n",
    "data['LotFrontage'].fillna(data['LotFrontage'].mean(), inplace = True)"
   ]
  },
  {
   "cell_type": "markdown",
   "metadata": {},
   "source": [
    "### Imputing categorical data"
   ]
  },
  {
   "cell_type": "code",
   "execution_count": 61,
   "metadata": {},
   "outputs": [],
   "source": [
    "data['GarageQual'].fillna(data['KitchenQual'], inplace = True)"
   ]
  },
  {
   "cell_type": "code",
   "execution_count": null,
   "metadata": {},
   "outputs": [],
   "source": []
  },
  {
   "cell_type": "code",
   "execution_count": 62,
   "metadata": {},
   "outputs": [],
   "source": [
    "\n",
    "\n",
    "# data[data['GarageCond'].isnull()]\n",
    "# data.groupby(['OverallCond'])['GarageCond'].value_counts().sort_values(ascending=False)\n",
    "nullCols = []\n",
    "colMasks = [col for col in data.isnull().mean() > 0]\n",
    "for col in colMasks:\n",
    "    nullCols.append(col)\n",
    "cols = data.columns[nullCols]\n",
    "for col in cols:\n",
    "    data[col].fillna(data[col].mode()[0], inplace = True)\n",
    "\n",
    "\n"
   ]
  },
  {
   "cell_type": "markdown",
   "metadata": {
    "collapsed": true
   },
   "source": [
    "### Correlation"
   ]
  },
  {
   "cell_type": "code",
   "execution_count": 63,
   "metadata": {},
   "outputs": [
    {
     "data": {
      "text/plain": [
       "TotalBsmtSF   1stFlrSF        0.819530\n",
       "1stFlrSF      TotalBsmtSF     0.819530\n",
       "GrLivArea     TotRmsAbvGrd    0.825489\n",
       "TotRmsAbvGrd  GrLivArea       0.825489\n",
       "GarageCars    GarageArea      0.882475\n",
       "GarageArea    GarageCars      0.882475\n",
       "dtype: float64"
      ]
     },
     "execution_count": 63,
     "metadata": {},
     "output_type": "execute_result"
    },
    {
     "data": {
      "text/plain": [
       "(1460, 62)"
      ]
     },
     "execution_count": 63,
     "metadata": {},
     "output_type": "execute_result"
    }
   ],
   "source": [
    "data.corr().abs().unstack()[(data.corr().abs().unstack() > .8) & (data.corr().abs().unstack() < 1)]\n",
    "highCorrVars = ['GarageYrBlt', 'TotalBsmtSF', 'TotRmsAbvGrd', 'GarageArea']\n",
    "data.drop(inplace = True, columns = highCorrVars, axis = 1)\n",
    "data.shape"
   ]
  },
  {
   "cell_type": "code",
   "execution_count": 64,
   "metadata": {},
   "outputs": [
    {
     "data": {
      "text/plain": [
       "Id               0.014686\n",
       "MSSubClass       0.402373\n",
       "LotFrontage      1.000000\n",
       "LotArea          0.337904\n",
       "OverallQual      0.227436\n",
       "OverallCond      0.037687\n",
       "YearBuilt        0.113525\n",
       "YearRemodAdd     0.073844\n",
       "MasVnrArea       0.176860\n",
       "BsmtFinSF1       0.223633\n",
       "BsmtFinSF2       0.049971\n",
       "BsmtUnfSF        0.122486\n",
       "1stFlrSF         0.429881\n",
       "2ndFlrSF         0.084762\n",
       "GrLivArea        0.389481\n",
       "BsmtFullBath     0.096236\n",
       "BsmtHalfBath     0.009346\n",
       "FullBath         0.189723\n",
       "HalfBath         0.066152\n",
       "BedroomAbvGr     0.267617\n",
       "Fireplaces       0.255323\n",
       "GarageCars       0.270558\n",
       "WoodDeckSF       0.094115\n",
       "OpenPorchSF      0.144117\n",
       "EnclosedPorch    0.005709\n",
       "ScreenPorch      0.039641\n",
       "MoSold           0.014807\n",
       "YrSold           0.003339\n",
       "SalePrice        0.347110\n",
       "dtype: float64"
      ]
     },
     "execution_count": 64,
     "metadata": {},
     "output_type": "execute_result"
    }
   ],
   "source": [
    "data.corr().abs().unstack()['LotFrontage']"
   ]
  },
  {
   "cell_type": "markdown",
   "metadata": {},
   "source": [
    "### Categorical Encoding"
   ]
  },
  {
   "cell_type": "code",
   "execution_count": 65,
   "metadata": {},
   "outputs": [
    {
     "data": {
      "text/plain": [
       "count    1460.000000\n",
       "mean     1971.267808\n",
       "std        30.202904\n",
       "min      1872.000000\n",
       "25%      1954.000000\n",
       "50%      1973.000000\n",
       "75%      2000.000000\n",
       "max      2010.000000\n",
       "Name: YearBuilt, dtype: float64"
      ]
     },
     "execution_count": 65,
     "metadata": {},
     "output_type": "execute_result"
    },
    {
     "data": {
      "text/plain": [
       "array([2003, 1976, 2001, 1915, 2000, 1993, 2004, 1973, 1931, 1939, 1965,\n",
       "       2005, 1962, 2006, 1960, 1929, 1970, 1967, 1958, 1930, 2002, 1968,\n",
       "       2007, 1951, 1957, 1927, 1920, 1966, 1959, 1994, 1954, 1953, 1955,\n",
       "       1983, 1975, 1997, 1934, 1963, 1981, 1964, 1999, 1972, 1921, 1945,\n",
       "       1982, 1998, 1956, 1948, 1910, 1995, 1991, 2009, 1950, 1961, 1977,\n",
       "       1985, 1979, 1885, 1919, 1990, 1969, 1935, 1988, 1971, 1952, 1936,\n",
       "       1923, 1924, 1984, 1926, 1940, 1941, 1987, 1986, 2008, 1908, 1892,\n",
       "       1916, 1932, 1918, 1912, 1947, 1925, 1900, 1980, 1989, 1992, 1949,\n",
       "       1880, 1928, 1978, 1922, 1996, 2010, 1946, 1913, 1937, 1942, 1938,\n",
       "       1974, 1893, 1914, 1906, 1890, 1898, 1904, 1882, 1875, 1911, 1917,\n",
       "       1872, 1905], dtype=int64)"
      ]
     },
     "execution_count": 65,
     "metadata": {},
     "output_type": "execute_result"
    },
    {
     "data": {
      "text/plain": [
       "count    1460.000000\n",
       "mean     1971.315068\n",
       "std        30.270373\n",
       "min      1870.000000\n",
       "25%      1950.000000\n",
       "50%      1970.000000\n",
       "75%      2000.000000\n",
       "max      2010.000000\n",
       "Name: YearBuilt, dtype: float64"
      ]
     },
     "execution_count": 65,
     "metadata": {},
     "output_type": "execute_result"
    },
    {
     "data": {
      "text/plain": [
       "array([2000, 1980, 1920, 1990, 1970, 1930, 1940, 1960, 2010, 1950, 1910,\n",
       "       1880, 1890, 1900, 1870], dtype=int64)"
      ]
     },
     "execution_count": 65,
     "metadata": {},
     "output_type": "execute_result"
    }
   ],
   "source": [
    "data['YearBuilt'].describe()\n",
    "data['YearBuilt'].unique()\n",
    "data['YearBuilt'] = data['YearBuilt'].round(-1)\n",
    "data['YearBuilt'].describe()\n",
    "data['YearBuilt'].unique()\n",
    "\n",
    "data['YrSold'] = data['YrSold'].round(-1)\n",
    "\n",
    "\n",
    "\n"
   ]
  },
  {
   "cell_type": "code",
   "execution_count": 66,
   "metadata": {},
   "outputs": [
    {
     "data": {
      "text/plain": [
       "array([ 2,  5,  9, 12, 10,  8, 11,  4,  1,  7,  3,  6], dtype=int64)"
      ]
     },
     "execution_count": 66,
     "metadata": {},
     "output_type": "execute_result"
    },
    {
     "data": {
      "text/plain": [
       "array(['Winter', 'Spring', 'Fall', 'Summer'], dtype=object)"
      ]
     },
     "execution_count": 66,
     "metadata": {},
     "output_type": "execute_result"
    },
    {
     "data": {
      "text/plain": [
       "count       1460\n",
       "unique         4\n",
       "top       Summer\n",
       "freq         609\n",
       "Name: MoSold, dtype: object"
      ]
     },
     "execution_count": 66,
     "metadata": {},
     "output_type": "execute_result"
    }
   ],
   "source": [
    "data['MoSold'].unique()\n",
    "seasonMap = { 12:'Winter', 1:'Winter', 2:'Winter', 3:'Spring', 4:'Spring', 5:'Spring', 6:'Summer', 7:'Summer', 8:'Summer', 9:'Fall', 10:'Fall',11:'Fall'}\n",
    "\n",
    "data['MoSold'] = data['MoSold'].map(seasonMap)\n",
    "data['MoSold'].unique()\n",
    "data['MoSold'].describe()\n"
   ]
  },
  {
   "cell_type": "code",
   "execution_count": 67,
   "metadata": {},
   "outputs": [
    {
     "data": {
      "text/plain": [
       "Id                 int64\n",
       "MSSubClass        object\n",
       "MSZoning          object\n",
       "LotFrontage      float64\n",
       "LotArea            int64\n",
       "LotShape          object\n",
       "LandContour       object\n",
       "LotConfig         object\n",
       "LandSlope         object\n",
       "Neighborhood      object\n",
       "Condition1        object\n",
       "BldgType          object\n",
       "HouseStyle        object\n",
       "OverallQual       object\n",
       "OverallCond       object\n",
       "YearBuilt         object\n",
       "YearRemodAdd      object\n",
       "RoofStyle         object\n",
       "Exterior1st       object\n",
       "Exterior2nd       object\n",
       "MasVnrType        object\n",
       "MasVnrArea       float64\n",
       "ExterQual         object\n",
       "ExterCond         object\n",
       "Foundation        object\n",
       "BsmtQual          object\n",
       "BsmtCond          object\n",
       "BsmtExposure      object\n",
       "BsmtFinType1      object\n",
       "BsmtFinSF1         int64\n",
       "BsmtFinType2      object\n",
       "BsmtFinSF2         int64\n",
       "BsmtUnfSF          int64\n",
       "HeatingQC         object\n",
       "CentralAir        object\n",
       "Electrical        object\n",
       "1stFlrSF           int64\n",
       "2ndFlrSF           int64\n",
       "GrLivArea          int64\n",
       "BsmtFullBath       int64\n",
       "BsmtHalfBath       int64\n",
       "FullBath           int64\n",
       "HalfBath           int64\n",
       "BedroomAbvGr       int64\n",
       "KitchenQual       object\n",
       "Functional        object\n",
       "Fireplaces         int64\n",
       "GarageType        object\n",
       "GarageFinish      object\n",
       "GarageCars         int64\n",
       "GarageQual        object\n",
       "GarageCond        object\n",
       "PavedDrive        object\n",
       "WoodDeckSF         int64\n",
       "OpenPorchSF        int64\n",
       "EnclosedPorch      int64\n",
       "ScreenPorch        int64\n",
       "MoSold            object\n",
       "YrSold            object\n",
       "SaleType          object\n",
       "SaleCondition     object\n",
       "SalePrice          int64\n",
       "dtype: object"
      ]
     },
     "execution_count": 67,
     "metadata": {},
     "output_type": "execute_result"
    }
   ],
   "source": [
    "\n",
    "data = data.astype({\"MSSubClass\": object, \"YearBuilt\": object, \"YearRemodAdd\": object, \"MoSold\": object, \"YrSold\": object, \"OverallQual\": object, \"OverallCond\": object})\n",
    "data.dtypes"
   ]
  },
  {
   "cell_type": "code",
   "execution_count": 75,
   "metadata": {},
   "outputs": [
    {
     "data": {
      "text/plain": [
       "<matplotlib.axes._subplots.AxesSubplot at 0x3213c2e8>"
      ]
     },
     "execution_count": 75,
     "metadata": {},
     "output_type": "execute_result"
    },
    {
     "data": {
      "image/png": "[encoded data removed]",
      "text/plain": [
       "<Figure size 1440x720 with 1 Axes>"
      ]
     },
     "metadata": {},
     "output_type": "display_data"
    }
   ],
   "source": [
    "data.groupby(['Neighborhood'])['SalePrice'].mean().sort_values(ascending=False).plot(kind='barh', figsize = (20, 10))"
   ]
  },
  {
   "cell_type": "code",
   "execution_count": 80,
   "metadata": {},
   "outputs": [
    {
     "data": {
      "text/plain": [
       "Veenker     11\n",
       "Timber      38\n",
       "StoneBr     25\n",
       "Somerst     86\n",
       "SawyerW     59\n",
       "Sawyer      74\n",
       "SWISU       25\n",
       "OldTown    113\n",
       "NridgHt     77\n",
       "NoRidge     41\n",
       "NWAmes      73\n",
       "NPkVill      9\n",
       "NAmes      225\n",
       "Mitchel     49\n",
       "MeadowV     17\n",
       "IDOTRR      37\n",
       "Gilbert     79\n",
       "Edwards    100\n",
       "Crawfor     51\n",
       "CollgCr    150\n",
       "ClearCr     28\n",
       "BrkSide     58\n",
       "BrDale      16\n",
       "Blueste      2\n",
       "Blmngtn     17\n",
       "Name: Neighborhood, dtype: int64"
      ]
     },
     "execution_count": 80,
     "metadata": {},
     "output_type": "execute_result"
    }
   ],
   "source": [
    "data['Neighborhood'].value_counts().sort_index(ascending=False)\n",
    "neighborhoodMap = {['NoRidge','NridgHt','StoneBr'] : 'ExpensiveN', ['Timber','Veenker','Somerst','ClearCr','Crawfor','CollgCr','Blmngtn','Gilbert','NWAmes','SawyerW'] : 'AverageN', ['Mitchel','NAmes','NPkVill','SWISU','Blueste','Sawyer','OldTown','Edwards','BrkSide'] : 'CheapN',['BrDale','IDOTRR','MeadowV'] : 'PoorN'}\n"
   ]
  },
  {
   "cell_type": "markdown",
   "metadata": {},
   "source": [
    "### Standardizing continuous columns - ?"
   ]
  },
  {
   "cell_type": "code",
   "execution_count": 69,
   "metadata": {},
   "outputs": [],
   "source": [
    "# data.drop(['SalePrice', 'Id'], axis = 1, inplace = True)"
   ]
  }
 ],
 "metadata": {
  "kernelspec": {
   "display_name": "Python 2",
   "language": "python",
   "name": "python2"
  },
  "language_info": {
   "codemirror_mode": {
    "name": "ipython",
    "version": 2
   },
   "file_extension": ".py",
   "mimetype": "text/x-python",
   "name": "python",
   "nbconvert_exporter": "python",
   "pygments_lexer": "ipython2",
   "version": "2.7.15"
  }
 },
 "nbformat": 4,
 "nbformat_minor": 2
}

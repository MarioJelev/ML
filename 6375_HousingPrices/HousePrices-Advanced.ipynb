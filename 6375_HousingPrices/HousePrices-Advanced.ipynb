{
 "cells": [
  {
   "cell_type": "code",
   "execution_count": 1,
   "metadata": {},
   "outputs": [
    {
     "name": "stderr",
     "output_type": "stream",
     "text": [
      "c:\\python27\\lib\\site-packages\\pandas\\_libs\\__init__.py:4: RuntimeWarning: numpy.dtype size changed, may indicate binary incompatibility. Expected zd, got zd\n",
      "  from .tslib import iNaT, NaT, Timestamp, Timedelta, OutOfBoundsDatetime\n",
      "c:\\python27\\lib\\site-packages\\pandas\\__init__.py:26: RuntimeWarning: numpy.dtype size changed, may indicate binary incompatibility. Expected zd, got zd\n",
      "  from pandas._libs import (hashtable as _hashtable,\n",
      "c:\\python27\\lib\\site-packages\\pandas\\core\\dtypes\\common.py:6: RuntimeWarning: numpy.dtype size changed, may indicate binary incompatibility. Expected zd, got zd\n",
      "  from pandas._libs import algos, lib\n",
      "c:\\python27\\lib\\site-packages\\pandas\\core\\util\\hashing.py:7: RuntimeWarning: numpy.dtype size changed, may indicate binary incompatibility. Expected zd, got zd\n",
      "  from pandas._libs import hashing, tslib\n",
      "c:\\python27\\lib\\site-packages\\pandas\\core\\indexes\\base.py:7: RuntimeWarning: numpy.dtype size changed, may indicate binary incompatibility. Expected zd, got zd\n",
      "  from pandas._libs import (lib, index as libindex, tslib as libts,\n",
      "c:\\python27\\lib\\site-packages\\pandas\\tseries\\offsets.py:21: RuntimeWarning: numpy.dtype size changed, may indicate binary incompatibility. Expected zd, got zd\n",
      "  import pandas._libs.tslibs.offsets as liboffsets\n",
      "c:\\python27\\lib\\site-packages\\pandas\\core\\ops.py:16: RuntimeWarning: numpy.dtype size changed, may indicate binary incompatibility. Expected zd, got zd\n",
      "  from pandas._libs import algos as libalgos, ops as libops\n",
      "c:\\python27\\lib\\site-packages\\pandas\\core\\indexes\\interval.py:32: RuntimeWarning: numpy.dtype size changed, may indicate binary incompatibility. Expected zd, got zd\n",
      "  from pandas._libs.interval import (\n",
      "c:\\python27\\lib\\site-packages\\pandas\\core\\internals.py:14: RuntimeWarning: numpy.dtype size changed, may indicate binary incompatibility. Expected zd, got zd\n",
      "  from pandas._libs import internals as libinternals\n",
      "c:\\python27\\lib\\site-packages\\pandas\\core\\sparse\\array.py:33: RuntimeWarning: numpy.dtype size changed, may indicate binary incompatibility. Expected zd, got zd\n",
      "  import pandas._libs.sparse as splib\n",
      "c:\\python27\\lib\\site-packages\\pandas\\core\\window.py:36: RuntimeWarning: numpy.dtype size changed, may indicate binary incompatibility. Expected zd, got zd\n",
      "  import pandas._libs.window as _window\n",
      "c:\\python27\\lib\\site-packages\\pandas\\core\\groupby\\groupby.py:68: RuntimeWarning: numpy.dtype size changed, may indicate binary incompatibility. Expected zd, got zd\n",
      "  from pandas._libs import (lib, reduction,\n",
      "c:\\python27\\lib\\site-packages\\pandas\\core\\reshape\\reshape.py:30: RuntimeWarning: numpy.dtype size changed, may indicate binary incompatibility. Expected zd, got zd\n",
      "  from pandas._libs import algos as _algos, reshape as _reshape\n",
      "c:\\python27\\lib\\site-packages\\pandas\\io\\parsers.py:45: RuntimeWarning: numpy.dtype size changed, may indicate binary incompatibility. Expected zd, got zd\n",
      "  import pandas._libs.parsers as parsers\n",
      "c:\\python27\\lib\\site-packages\\pandas\\io\\pytables.py:50: RuntimeWarning: numpy.dtype size changed, may indicate binary incompatibility. Expected zd, got zd\n",
      "  from pandas._libs import algos, lib, writers as libwriters\n"
     ]
    }
   ],
   "source": [
    "from __future__ import print_function\n",
    "\n",
    "import pandas as pd\n",
    "import numpy as np\n",
    "from sklearn.model_selection import train_test_split\n",
    "from sklearn.model_selection import GridSearchCV\n",
    "from sklearn.metrics import classification_report\n",
    "from sklearn.metrics import confusion_matrix\n",
    "from sklearn.metrics import accuracy_score\n",
    "from sklearn.metrics import precision_recall_fscore_support\n",
    "from sklearn.feature_selection import VarianceThreshold\n",
    "from sklearn import preprocessing\n",
    "import math as m\n",
    "\n",
    "\n",
    "\n",
    "\n",
    "%matplotlib inline\n",
    "from IPython.core.interactiveshell import InteractiveShell\n",
    "InteractiveShell.ast_node_interactivity = \"all\"\n",
    "pd.options.display.max_rows = 4000\n",
    "pd.set_option('display.max_colwidth', -1)"
   ]
  },
  {
   "cell_type": "code",
   "execution_count": 2,
   "metadata": {},
   "outputs": [],
   "source": [
    "def corr_salePrice(attribute):\n",
    "    data.groupby(attribute)['SalePrice'].mean().sort_values(ascending=False).plot(kind='barh', figsize = (20, 10))"
   ]
  },
  {
   "cell_type": "code",
   "execution_count": 3,
   "metadata": {},
   "outputs": [],
   "source": [
    "data = pd.read_csv(\"train.csv\")\n",
    "target = data['SalePrice']\n",
    "test = pd.read_csv(\"test.csv\")\n",
    "data.drop(['Id'], axis = 1, inplace = True)\n",
    "testIds = test['Id']\n",
    "test.drop(['Id'], axis = 1, inplace = True)"
   ]
  },
  {
   "cell_type": "code",
   "execution_count": 4,
   "metadata": {},
   "outputs": [
    {
     "data": {
      "text/plain": [
       "MSSubClass       int64  \n",
       "MSZoning         object \n",
       "LotFrontage      float64\n",
       "LotArea          int64  \n",
       "Street           object \n",
       "Alley            object \n",
       "LotShape         object \n",
       "LandContour      object \n",
       "Utilities        object \n",
       "LotConfig        object \n",
       "LandSlope        object \n",
       "Neighborhood     object \n",
       "Condition1       object \n",
       "Condition2       object \n",
       "BldgType         object \n",
       "HouseStyle       object \n",
       "OverallQual      int64  \n",
       "OverallCond      int64  \n",
       "YearBuilt        int64  \n",
       "YearRemodAdd     int64  \n",
       "RoofStyle        object \n",
       "RoofMatl         object \n",
       "Exterior1st      object \n",
       "Exterior2nd      object \n",
       "MasVnrType       object \n",
       "MasVnrArea       float64\n",
       "ExterQual        object \n",
       "ExterCond        object \n",
       "Foundation       object \n",
       "BsmtQual         object \n",
       "BsmtCond         object \n",
       "BsmtExposure     object \n",
       "BsmtFinType1     object \n",
       "BsmtFinSF1       int64  \n",
       "BsmtFinType2     object \n",
       "BsmtFinSF2       int64  \n",
       "BsmtUnfSF        int64  \n",
       "TotalBsmtSF      int64  \n",
       "Heating          object \n",
       "HeatingQC        object \n",
       "CentralAir       object \n",
       "Electrical       object \n",
       "1stFlrSF         int64  \n",
       "2ndFlrSF         int64  \n",
       "LowQualFinSF     int64  \n",
       "GrLivArea        int64  \n",
       "BsmtFullBath     int64  \n",
       "BsmtHalfBath     int64  \n",
       "FullBath         int64  \n",
       "HalfBath         int64  \n",
       "BedroomAbvGr     int64  \n",
       "KitchenAbvGr     int64  \n",
       "KitchenQual      object \n",
       "TotRmsAbvGrd     int64  \n",
       "Functional       object \n",
       "Fireplaces       int64  \n",
       "FireplaceQu      object \n",
       "GarageType       object \n",
       "GarageYrBlt      float64\n",
       "GarageFinish     object \n",
       "GarageCars       int64  \n",
       "GarageArea       int64  \n",
       "GarageQual       object \n",
       "GarageCond       object \n",
       "PavedDrive       object \n",
       "WoodDeckSF       int64  \n",
       "OpenPorchSF      int64  \n",
       "EnclosedPorch    int64  \n",
       "3SsnPorch        int64  \n",
       "ScreenPorch      int64  \n",
       "PoolArea         int64  \n",
       "PoolQC           object \n",
       "Fence            object \n",
       "MiscFeature      object \n",
       "MiscVal          int64  \n",
       "MoSold           int64  \n",
       "YrSold           int64  \n",
       "SaleType         object \n",
       "SaleCondition    object \n",
       "SalePrice        int64  \n",
       "dtype: object"
      ]
     },
     "execution_count": 4,
     "metadata": {},
     "output_type": "execute_result"
    },
    {
     "data": {
      "text/plain": [
       "(1460, 80)"
      ]
     },
     "execution_count": 4,
     "metadata": {},
     "output_type": "execute_result"
    }
   ],
   "source": [
    "data.dtypes\n",
    "data.shape"
   ]
  },
  {
   "cell_type": "markdown",
   "metadata": {},
   "source": [
    "### Drop columns that are missing at least than 25% of their values"
   ]
  },
  {
   "cell_type": "code",
   "execution_count": 5,
   "metadata": {},
   "outputs": [
    {
     "data": {
      "text/plain": [
       "PoolQC           0.995205\n",
       "MiscFeature      0.963014\n",
       "Alley            0.937671\n",
       "Fence            0.807534\n",
       "FireplaceQu      0.472603\n",
       "LotFrontage      0.177397\n",
       "GarageType       0.055479\n",
       "GarageCond       0.055479\n",
       "GarageFinish     0.055479\n",
       "GarageQual       0.055479\n",
       "GarageYrBlt      0.055479\n",
       "BsmtFinType2     0.026027\n",
       "BsmtExposure     0.026027\n",
       "BsmtQual         0.025342\n",
       "BsmtCond         0.025342\n",
       "BsmtFinType1     0.025342\n",
       "MasVnrArea       0.005479\n",
       "MasVnrType       0.005479\n",
       "Electrical       0.000685\n",
       "RoofMatl         0.000000\n",
       "Exterior1st      0.000000\n",
       "RoofStyle        0.000000\n",
       "ExterQual        0.000000\n",
       "Exterior2nd      0.000000\n",
       "YearBuilt        0.000000\n",
       "ExterCond        0.000000\n",
       "Foundation       0.000000\n",
       "YearRemodAdd     0.000000\n",
       "SalePrice        0.000000\n",
       "OverallCond      0.000000\n",
       "OverallQual      0.000000\n",
       "HouseStyle       0.000000\n",
       "BldgType         0.000000\n",
       "Condition2       0.000000\n",
       "Condition1       0.000000\n",
       "Neighborhood     0.000000\n",
       "LandSlope        0.000000\n",
       "LotConfig        0.000000\n",
       "Utilities        0.000000\n",
       "LandContour      0.000000\n",
       "LotShape         0.000000\n",
       "Street           0.000000\n",
       "LotArea          0.000000\n",
       "MSZoning         0.000000\n",
       "BsmtFinSF1       0.000000\n",
       "HeatingQC        0.000000\n",
       "BsmtFinSF2       0.000000\n",
       "EnclosedPorch    0.000000\n",
       "Fireplaces       0.000000\n",
       "GarageCars       0.000000\n",
       "GarageArea       0.000000\n",
       "PavedDrive       0.000000\n",
       "WoodDeckSF       0.000000\n",
       "OpenPorchSF      0.000000\n",
       "3SsnPorch        0.000000\n",
       "BsmtUnfSF        0.000000\n",
       "ScreenPorch      0.000000\n",
       "PoolArea         0.000000\n",
       "MiscVal          0.000000\n",
       "MoSold           0.000000\n",
       "YrSold           0.000000\n",
       "SaleType         0.000000\n",
       "Functional       0.000000\n",
       "TotRmsAbvGrd     0.000000\n",
       "KitchenQual      0.000000\n",
       "KitchenAbvGr     0.000000\n",
       "BedroomAbvGr     0.000000\n",
       "HalfBath         0.000000\n",
       "FullBath         0.000000\n",
       "BsmtHalfBath     0.000000\n",
       "BsmtFullBath     0.000000\n",
       "GrLivArea        0.000000\n",
       "LowQualFinSF     0.000000\n",
       "2ndFlrSF         0.000000\n",
       "1stFlrSF         0.000000\n",
       "CentralAir       0.000000\n",
       "SaleCondition    0.000000\n",
       "Heating          0.000000\n",
       "TotalBsmtSF      0.000000\n",
       "MSSubClass       0.000000\n",
       "dtype: float64"
      ]
     },
     "execution_count": 5,
     "metadata": {},
     "output_type": "execute_result"
    },
    {
     "data": {
      "text/plain": [
       "PoolQC           0.997944\n",
       "MiscFeature      0.965045\n",
       "Alley            0.926662\n",
       "Fence            0.801234\n",
       "FireplaceQu      0.500343\n",
       "LotFrontage      0.155586\n",
       "GarageCond       0.053461\n",
       "GarageFinish     0.053461\n",
       "GarageYrBlt      0.053461\n",
       "GarageQual       0.053461\n",
       "GarageType       0.052090\n",
       "BsmtCond         0.030843\n",
       "BsmtExposure     0.030158\n",
       "BsmtQual         0.030158\n",
       "BsmtFinType1     0.028787\n",
       "BsmtFinType2     0.028787\n",
       "MasVnrType       0.010966\n",
       "MasVnrArea       0.010281\n",
       "MSZoning         0.002742\n",
       "BsmtHalfBath     0.001371\n",
       "Utilities        0.001371\n",
       "Functional       0.001371\n",
       "BsmtFullBath     0.001371\n",
       "BsmtFinSF2       0.000685\n",
       "BsmtFinSF1       0.000685\n",
       "BsmtUnfSF        0.000685\n",
       "TotalBsmtSF      0.000685\n",
       "Exterior2nd      0.000685\n",
       "SaleType         0.000685\n",
       "Exterior1st      0.000685\n",
       "KitchenQual      0.000685\n",
       "GarageArea       0.000685\n",
       "GarageCars       0.000685\n",
       "OverallQual      0.000000\n",
       "Neighborhood     0.000000\n",
       "LotArea          0.000000\n",
       "Street           0.000000\n",
       "LotShape         0.000000\n",
       "LandContour      0.000000\n",
       "LotConfig        0.000000\n",
       "LandSlope        0.000000\n",
       "Condition1       0.000000\n",
       "HouseStyle       0.000000\n",
       "ExterQual        0.000000\n",
       "Condition2       0.000000\n",
       "BldgType         0.000000\n",
       "RoofMatl         0.000000\n",
       "RoofStyle        0.000000\n",
       "YearRemodAdd     0.000000\n",
       "YearBuilt        0.000000\n",
       "OverallCond      0.000000\n",
       "SaleCondition    0.000000\n",
       "HeatingQC        0.000000\n",
       "ExterCond        0.000000\n",
       "Foundation       0.000000\n",
       "YrSold           0.000000\n",
       "MoSold           0.000000\n",
       "MiscVal          0.000000\n",
       "PoolArea         0.000000\n",
       "ScreenPorch      0.000000\n",
       "3SsnPorch        0.000000\n",
       "EnclosedPorch    0.000000\n",
       "OpenPorchSF      0.000000\n",
       "WoodDeckSF       0.000000\n",
       "PavedDrive       0.000000\n",
       "Fireplaces       0.000000\n",
       "TotRmsAbvGrd     0.000000\n",
       "KitchenAbvGr     0.000000\n",
       "BedroomAbvGr     0.000000\n",
       "HalfBath         0.000000\n",
       "FullBath         0.000000\n",
       "GrLivArea        0.000000\n",
       "LowQualFinSF     0.000000\n",
       "2ndFlrSF         0.000000\n",
       "1stFlrSF         0.000000\n",
       "Electrical       0.000000\n",
       "CentralAir       0.000000\n",
       "Heating          0.000000\n",
       "MSSubClass       0.000000\n",
       "dtype: float64"
      ]
     },
     "execution_count": 5,
     "metadata": {},
     "output_type": "execute_result"
    }
   ],
   "source": [
    "data.isna().mean().sort_values(ascending=False)\n",
    "test.isna().mean().sort_values(ascending=False)"
   ]
  },
  {
   "cell_type": "code",
   "execution_count": 6,
   "metadata": {},
   "outputs": [
    {
     "data": {
      "text/plain": [
       "Index([u'Alley', u'FireplaceQu', u'PoolQC', u'Fence', u'MiscFeature'], dtype='object')"
      ]
     },
     "execution_count": 6,
     "metadata": {},
     "output_type": "execute_result"
    },
    {
     "data": {
      "text/plain": [
       "(1460, 75)"
      ]
     },
     "execution_count": 6,
     "metadata": {},
     "output_type": "execute_result"
    },
    {
     "data": {
      "text/plain": [
       "(1459, 74)"
      ]
     },
     "execution_count": 6,
     "metadata": {},
     "output_type": "execute_result"
    }
   ],
   "source": [
    "# data.isna().mean().sort_values(ascending=False)\n",
    "cols = [col for col in data.isna().mean() >= .25]\n",
    "data.columns[cols]\n",
    "\n",
    "# drop the same columns in test dataset\n",
    "colNames = []\n",
    "for col in data.columns[cols]:\n",
    "    colNames.append(col)\n",
    "    \n",
    "data.drop(columns = data.columns[cols], axis = 1, inplace = True)\n",
    "\n",
    "\n",
    "# test.columns[cols]\n",
    "\n",
    "test.drop(columns = colNames, axis = 1, inplace = True)\n",
    "\n",
    "data.shape\n",
    "test.shape\n"
   ]
  },
  {
   "cell_type": "markdown",
   "metadata": {},
   "source": [
    "### Constant variables"
   ]
  },
  {
   "cell_type": "code",
   "execution_count": 7,
   "metadata": {},
   "outputs": [],
   "source": [
    "# selector = VarianceThreshold(threshold=0.05)\n",
    "# selector.fit(data)\n",
    "# data.columns[selector.get_support()]\n",
    "\n",
    "# cols = [col for col in data.isnull().mean() > 0]\n",
    "# for col in data.columns[cols]:\n",
    "for col in data.columns:\n",
    "    \n",
    "    if data[col].dtype == 'int64' or data[col].dtype == 'float64':\n",
    "        if data[col].std() == 0:\n",
    "            col\n",
    "            data[col].std()\n",
    "    else:\n",
    "        if len(data[col].unique()) == 1:\n",
    "            col\n",
    "            data[col].unique()"
   ]
  },
  {
   "cell_type": "markdown",
   "metadata": {},
   "source": [
    "### Quasi constant variables"
   ]
  },
  {
   "cell_type": "code",
   "execution_count": 8,
   "metadata": {},
   "outputs": [
    {
     "data": {
      "text/plain": [
       "'Street'"
      ]
     },
     "execution_count": 8,
     "metadata": {},
     "output_type": "execute_result"
    },
    {
     "data": {
      "text/plain": [
       "'Utilities'"
      ]
     },
     "execution_count": 8,
     "metadata": {},
     "output_type": "execute_result"
    },
    {
     "data": {
      "text/plain": [
       "'Condition2'"
      ]
     },
     "execution_count": 8,
     "metadata": {},
     "output_type": "execute_result"
    },
    {
     "data": {
      "text/plain": [
       "'RoofMatl'"
      ]
     },
     "execution_count": 8,
     "metadata": {},
     "output_type": "execute_result"
    },
    {
     "data": {
      "text/plain": [
       "'Heating'"
      ]
     },
     "execution_count": 8,
     "metadata": {},
     "output_type": "execute_result"
    },
    {
     "data": {
      "text/plain": [
       "'LowQualFinSF'"
      ]
     },
     "execution_count": 8,
     "metadata": {},
     "output_type": "execute_result"
    },
    {
     "data": {
      "text/plain": [
       "'KitchenAbvGr'"
      ]
     },
     "execution_count": 8,
     "metadata": {},
     "output_type": "execute_result"
    },
    {
     "data": {
      "text/plain": [
       "'3SsnPorch'"
      ]
     },
     "execution_count": 8,
     "metadata": {},
     "output_type": "execute_result"
    },
    {
     "data": {
      "text/plain": [
       "'PoolArea'"
      ]
     },
     "execution_count": 8,
     "metadata": {},
     "output_type": "execute_result"
    },
    {
     "data": {
      "text/plain": [
       "'MiscVal'"
      ]
     },
     "execution_count": 8,
     "metadata": {},
     "output_type": "execute_result"
    },
    {
     "data": {
      "text/plain": [
       "(1460, 65)"
      ]
     },
     "execution_count": 8,
     "metadata": {},
     "output_type": "execute_result"
    },
    {
     "data": {
      "text/plain": [
       "(1459, 64)"
      ]
     },
     "execution_count": 8,
     "metadata": {},
     "output_type": "execute_result"
    }
   ],
   "source": [
    "dfLength = float(len(data))\n",
    "quasConst = []\n",
    "for col in data.columns:\n",
    "    dominating_val_pct = (data[col].value_counts()/ dfLength).sort_values(ascending=False).values[0]\n",
    "    if dominating_val_pct > .95:\n",
    "        col\n",
    "        quasConst.append(col)\n",
    "        \n",
    "data.drop(inplace = True, columns = quasConst, axis = 1)\n",
    "test.drop(inplace = True, columns = quasConst, axis = 1)\n",
    "data.shape\n",
    "test.shape"
   ]
  },
  {
   "cell_type": "code",
   "execution_count": 9,
   "metadata": {},
   "outputs": [],
   "source": [
    "data.LotFrontage = data.groupby(['PavedDrive', 'BldgType', 'Neighborhood'])['LotFrontage'].apply(lambda x: x.fillna(x.mean()))\n",
    "test.LotFrontage = data.groupby(['PavedDrive', 'BldgType', 'Neighborhood'])['LotFrontage'].apply(lambda x: x.fillna(x.mean()))\n",
    "# the above leaves some more null values\n",
    "data['LotFrontage'].fillna(data['LotFrontage'].mean(), inplace = True)\n",
    "test['LotFrontage'].fillna(data['LotFrontage'].mean(), inplace = True)"
   ]
  },
  {
   "cell_type": "markdown",
   "metadata": {},
   "source": [
    "### Imputing categorical data"
   ]
  },
  {
   "cell_type": "code",
   "execution_count": 10,
   "metadata": {},
   "outputs": [],
   "source": [
    "data['GarageQual'].fillna(data['KitchenQual'], inplace = True)\n",
    "test['GarageQual'].fillna(test['KitchenQual'], inplace = True)"
   ]
  },
  {
   "cell_type": "code",
   "execution_count": null,
   "metadata": {},
   "outputs": [],
   "source": []
  },
  {
   "cell_type": "code",
   "execution_count": 11,
   "metadata": {},
   "outputs": [],
   "source": [
    "\n",
    "\n",
    "# data[data['GarageCond'].isnull()]\n",
    "# data.groupby(['OverallCond'])['GarageCond'].value_counts().sort_values(ascending=False)\n",
    "nullCols = []\n",
    "colMasks = [col for col in data.isnull().mean() > 0]\n",
    "for col in colMasks:\n",
    "    nullCols.append(col)\n",
    "cols = data.columns[nullCols]\n",
    "for col in cols:\n",
    "    data[col].fillna(data[col].mode()[0], inplace = True)\n",
    "\n",
    "nullCols = []\n",
    "colMasks = [col for col in test.isnull().mean() > 0]\n",
    "for col in colMasks:\n",
    "    nullCols.append(col)\n",
    "cols = test.columns[nullCols]\n",
    "for col in cols:\n",
    "    test[col].fillna(test[col].mode()[0], inplace = True)\n",
    "\n"
   ]
  },
  {
   "cell_type": "markdown",
   "metadata": {
    "collapsed": true
   },
   "source": [
    "### Correlation"
   ]
  },
  {
   "cell_type": "code",
   "execution_count": 12,
   "metadata": {},
   "outputs": [
    {
     "data": {
      "text/plain": [
       "TotalBsmtSF   1stFlrSF        0.819530\n",
       "1stFlrSF      TotalBsmtSF     0.819530\n",
       "GrLivArea     TotRmsAbvGrd    0.825489\n",
       "TotRmsAbvGrd  GrLivArea       0.825489\n",
       "GarageCars    GarageArea      0.882475\n",
       "GarageArea    GarageCars      0.882475\n",
       "dtype: float64"
      ]
     },
     "execution_count": 12,
     "metadata": {},
     "output_type": "execute_result"
    },
    {
     "data": {
      "text/plain": [
       "(1460, 61)"
      ]
     },
     "execution_count": 12,
     "metadata": {},
     "output_type": "execute_result"
    },
    {
     "data": {
      "text/plain": [
       "(1459, 60)"
      ]
     },
     "execution_count": 12,
     "metadata": {},
     "output_type": "execute_result"
    }
   ],
   "source": [
    "data.corr().abs().unstack()[(data.corr().abs().unstack() > .8) & (data.corr().abs().unstack() < 1)]\n",
    "highCorrVars = ['GarageYrBlt', 'TotalBsmtSF', 'TotRmsAbvGrd', 'GarageArea']\n",
    "data.drop(inplace = True, columns = highCorrVars, axis = 1)\n",
    "test.drop(inplace = True, columns = highCorrVars, axis = 1)\n",
    "data.shape\n",
    "test.shape"
   ]
  },
  {
   "cell_type": "code",
   "execution_count": 13,
   "metadata": {},
   "outputs": [
    {
     "data": {
      "text/plain": [
       "MSSubClass       0.402373\n",
       "LotFrontage      1.000000\n",
       "LotArea          0.337904\n",
       "OverallQual      0.227436\n",
       "OverallCond      0.037687\n",
       "YearBuilt        0.113525\n",
       "YearRemodAdd     0.073844\n",
       "MasVnrArea       0.176860\n",
       "BsmtFinSF1       0.223633\n",
       "BsmtFinSF2       0.049971\n",
       "BsmtUnfSF        0.122486\n",
       "1stFlrSF         0.429881\n",
       "2ndFlrSF         0.084762\n",
       "GrLivArea        0.389481\n",
       "BsmtFullBath     0.096236\n",
       "BsmtHalfBath     0.009346\n",
       "FullBath         0.189723\n",
       "HalfBath         0.066152\n",
       "BedroomAbvGr     0.267617\n",
       "Fireplaces       0.255323\n",
       "GarageCars       0.270558\n",
       "WoodDeckSF       0.094115\n",
       "OpenPorchSF      0.144117\n",
       "EnclosedPorch    0.005709\n",
       "ScreenPorch      0.039641\n",
       "MoSold           0.014807\n",
       "YrSold           0.003339\n",
       "SalePrice        0.347110\n",
       "dtype: float64"
      ]
     },
     "execution_count": 13,
     "metadata": {},
     "output_type": "execute_result"
    }
   ],
   "source": [
    "data.corr().abs().unstack()['LotFrontage']"
   ]
  },
  {
   "cell_type": "markdown",
   "metadata": {},
   "source": [
    "### Categorical Encoding"
   ]
  },
  {
   "cell_type": "code",
   "execution_count": 14,
   "metadata": {},
   "outputs": [
    {
     "data": {
      "text/plain": [
       "count    1460.000000\n",
       "mean     1971.267808\n",
       "std      30.202904  \n",
       "min      1872.000000\n",
       "25%      1954.000000\n",
       "50%      1973.000000\n",
       "75%      2000.000000\n",
       "max      2010.000000\n",
       "Name: YearBuilt, dtype: float64"
      ]
     },
     "execution_count": 14,
     "metadata": {},
     "output_type": "execute_result"
    },
    {
     "data": {
      "text/plain": [
       "array([2003, 1976, 2001, 1915, 2000, 1993, 2004, 1973, 1931, 1939, 1965,\n",
       "       2005, 1962, 2006, 1960, 1929, 1970, 1967, 1958, 1930, 2002, 1968,\n",
       "       2007, 1951, 1957, 1927, 1920, 1966, 1959, 1994, 1954, 1953, 1955,\n",
       "       1983, 1975, 1997, 1934, 1963, 1981, 1964, 1999, 1972, 1921, 1945,\n",
       "       1982, 1998, 1956, 1948, 1910, 1995, 1991, 2009, 1950, 1961, 1977,\n",
       "       1985, 1979, 1885, 1919, 1990, 1969, 1935, 1988, 1971, 1952, 1936,\n",
       "       1923, 1924, 1984, 1926, 1940, 1941, 1987, 1986, 2008, 1908, 1892,\n",
       "       1916, 1932, 1918, 1912, 1947, 1925, 1900, 1980, 1989, 1992, 1949,\n",
       "       1880, 1928, 1978, 1922, 1996, 2010, 1946, 1913, 1937, 1942, 1938,\n",
       "       1974, 1893, 1914, 1906, 1890, 1898, 1904, 1882, 1875, 1911, 1917,\n",
       "       1872, 1905], dtype=int64)"
      ]
     },
     "execution_count": 14,
     "metadata": {},
     "output_type": "execute_result"
    },
    {
     "data": {
      "text/plain": [
       "count    1460.000000\n",
       "mean     1971.315068\n",
       "std      30.270373  \n",
       "min      1870.000000\n",
       "25%      1950.000000\n",
       "50%      1970.000000\n",
       "75%      2000.000000\n",
       "max      2010.000000\n",
       "Name: YearBuilt, dtype: float64"
      ]
     },
     "execution_count": 14,
     "metadata": {},
     "output_type": "execute_result"
    },
    {
     "data": {
      "text/plain": [
       "array([2000, 1980, 1920, 1990, 1970, 1930, 1940, 1960, 2010, 1950, 1910,\n",
       "       1880, 1890, 1900, 1870], dtype=int64)"
      ]
     },
     "execution_count": 14,
     "metadata": {},
     "output_type": "execute_result"
    }
   ],
   "source": [
    "data['YearBuilt'].describe()\n",
    "data['YearBuilt'].unique()\n",
    "data['YearBuilt'] = data['YearBuilt'].round(-1)\n",
    "test['YearBuilt'] = test['YearBuilt'].round(-1)\n",
    "data['YearBuilt'].describe()\n",
    "data['YearBuilt'].unique()\n",
    "\n",
    "data['YrSold'] = data['YrSold'].round(-1)\n",
    "test['YrSold'] = test['YrSold'].round(-1)\n",
    "\n",
    "\n"
   ]
  },
  {
   "cell_type": "code",
   "execution_count": 15,
   "metadata": {},
   "outputs": [
    {
     "data": {
      "text/plain": [
       "array([ 2,  5,  9, 12, 10,  8, 11,  4,  1,  7,  3,  6], dtype=int64)"
      ]
     },
     "execution_count": 15,
     "metadata": {},
     "output_type": "execute_result"
    },
    {
     "data": {
      "text/plain": [
       "array(['Winter', 'Spring', 'Fall', 'Summer'], dtype=object)"
      ]
     },
     "execution_count": 15,
     "metadata": {},
     "output_type": "execute_result"
    },
    {
     "data": {
      "text/plain": [
       "count     1460  \n",
       "unique    4     \n",
       "top       Summer\n",
       "freq      609   \n",
       "Name: MoSold, dtype: object"
      ]
     },
     "execution_count": 15,
     "metadata": {},
     "output_type": "execute_result"
    }
   ],
   "source": [
    "data['MoSold'].unique()\n",
    "seasonMap = { 12:'Winter', 1:'Winter', 2:'Winter', 3:'Spring', 4:'Spring', 5:'Spring', 6:'Summer', 7:'Summer', 8:'Summer', 9:'Fall', 10:'Fall',11:'Fall'}\n",
    "\n",
    "data['MoSold'] = data['MoSold'].map(seasonMap)\n",
    "test['MoSold'] = test['MoSold'].map(seasonMap)\n",
    "\n",
    "data['MoSold'].unique()\n",
    "data['MoSold'].describe()\n"
   ]
  },
  {
   "cell_type": "code",
   "execution_count": 16,
   "metadata": {},
   "outputs": [
    {
     "data": {
      "text/plain": [
       "MSSubClass       object \n",
       "MSZoning         object \n",
       "LotFrontage      float64\n",
       "LotArea          int64  \n",
       "LotShape         object \n",
       "LandContour      object \n",
       "LotConfig        object \n",
       "LandSlope        object \n",
       "Neighborhood     object \n",
       "Condition1       object \n",
       "BldgType         object \n",
       "HouseStyle       object \n",
       "OverallQual      object \n",
       "OverallCond      object \n",
       "YearBuilt        object \n",
       "YearRemodAdd     object \n",
       "RoofStyle        object \n",
       "Exterior1st      object \n",
       "Exterior2nd      object \n",
       "MasVnrType       object \n",
       "MasVnrArea       float64\n",
       "ExterQual        object \n",
       "ExterCond        object \n",
       "Foundation       object \n",
       "BsmtQual         object \n",
       "BsmtCond         object \n",
       "BsmtExposure     object \n",
       "BsmtFinType1     object \n",
       "BsmtFinSF1       int64  \n",
       "BsmtFinType2     object \n",
       "BsmtFinSF2       int64  \n",
       "BsmtUnfSF        int64  \n",
       "HeatingQC        object \n",
       "CentralAir       object \n",
       "Electrical       object \n",
       "1stFlrSF         int64  \n",
       "2ndFlrSF         int64  \n",
       "GrLivArea        int64  \n",
       "BsmtFullBath     int64  \n",
       "BsmtHalfBath     int64  \n",
       "FullBath         int64  \n",
       "HalfBath         int64  \n",
       "BedroomAbvGr     int64  \n",
       "KitchenQual      object \n",
       "Functional       object \n",
       "Fireplaces       int64  \n",
       "GarageType       object \n",
       "GarageFinish     object \n",
       "GarageCars       int64  \n",
       "GarageQual       object \n",
       "GarageCond       object \n",
       "PavedDrive       object \n",
       "WoodDeckSF       int64  \n",
       "OpenPorchSF      int64  \n",
       "EnclosedPorch    int64  \n",
       "ScreenPorch      int64  \n",
       "MoSold           object \n",
       "YrSold           object \n",
       "SaleType         object \n",
       "SaleCondition    object \n",
       "SalePrice        int64  \n",
       "dtype: object"
      ]
     },
     "execution_count": 16,
     "metadata": {},
     "output_type": "execute_result"
    }
   ],
   "source": [
    "\n",
    "data = data.astype({\"MSSubClass\": object, \"YearBuilt\": object, \"YearRemodAdd\": object, \"MoSold\": object, \"YrSold\": object, \"OverallQual\": object, \"OverallCond\": object})\n",
    "test = test.astype({\"MSSubClass\": object, \"YearBuilt\": object, \"YearRemodAdd\": object, \"MoSold\": object, \"YrSold\": object, \"OverallQual\": object, \"OverallCond\": object})\n",
    "data.dtypes"
   ]
  },
  {
   "cell_type": "markdown",
   "metadata": {},
   "source": [
    "### Bucket Neighborhoods into rich, average, cheap, poor"
   ]
  },
  {
   "cell_type": "code",
   "execution_count": 17,
   "metadata": {},
   "outputs": [
    {
     "data": {
      "image/png": "[encoded data removed]",
      "text/plain": [
       "<Figure size 1440x720 with 1 Axes>"
      ]
     },
     "metadata": {},
     "output_type": "display_data"
    }
   ],
   "source": [
    "# data.groupby(['Neighborhood'])['SalePrice'].mean().sort_values(ascending=False).plot(kind='barh', figsize = (20, 10))\n",
    "corr_salePrice(['Neighborhood'])"
   ]
  },
  {
   "cell_type": "code",
   "execution_count": 18,
   "metadata": {},
   "outputs": [
    {
     "name": "stdout",
     "output_type": "stream",
     "text": [
      "Difference in neighborhoods between training and test sets:  []\n"
     ]
    },
    {
     "data": {
      "text/plain": [
       "Veenker    11 \n",
       "Timber     38 \n",
       "StoneBr    25 \n",
       "Somerst    86 \n",
       "SawyerW    59 \n",
       "Sawyer     74 \n",
       "SWISU      25 \n",
       "OldTown    113\n",
       "NridgHt    77 \n",
       "NoRidge    41 \n",
       "NWAmes     73 \n",
       "NPkVill    9  \n",
       "NAmes      225\n",
       "Mitchel    49 \n",
       "MeadowV    17 \n",
       "IDOTRR     37 \n",
       "Gilbert    79 \n",
       "Edwards    100\n",
       "Crawfor    51 \n",
       "CollgCr    150\n",
       "ClearCr    28 \n",
       "BrkSide    58 \n",
       "BrDale     16 \n",
       "Blueste    2  \n",
       "Blmngtn    17 \n",
       "Name: Neighborhood, dtype: int64"
      ]
     },
     "execution_count": 18,
     "metadata": {},
     "output_type": "execute_result"
    },
    {
     "data": {
      "text/plain": [
       "PoorN         70 \n",
       "ExpensiveN    143\n",
       "CheapN        655\n",
       "AverageN      592\n",
       "Name: Neighborhood, dtype: int64"
      ]
     },
     "execution_count": 18,
     "metadata": {},
     "output_type": "execute_result"
    }
   ],
   "source": [
    "difference = list(set(data['Neighborhood'].unique()) - set(test['Neighborhood'].unique()))\n",
    "print (\"Difference in neighborhoods between training and test sets: \" , difference)\n",
    "\n",
    "\n",
    "\n",
    "data['Neighborhood'].value_counts().sort_index(ascending=False)\n",
    "neighborhoodMap = {}\n",
    "for expN in ['NoRidge','NridgHt','StoneBr']:\n",
    "    neighborhoodMap[expN] = 'ExpensiveN'\n",
    "for avgN in ['Timber','Veenker','Somerst','ClearCr','Crawfor','CollgCr','Blmngtn','Gilbert','NWAmes','SawyerW']:\n",
    "    neighborhoodMap[avgN] = 'AverageN'\n",
    "for cheapN in ['Mitchel','NAmes','NPkVill','SWISU','Blueste','Sawyer','OldTown','Edwards','BrkSide']:\n",
    "    neighborhoodMap[cheapN] = 'CheapN'\n",
    "for poorN in ['BrDale','IDOTRR','MeadowV']:\n",
    "    neighborhoodMap[poorN] = 'PoorN'\n",
    "    \n",
    "data['Neighborhood'] = data['Neighborhood'].map(neighborhoodMap)\n",
    "test['Neighborhood'] = test['Neighborhood'].map(neighborhoodMap)\n",
    "\n",
    "data['Neighborhood'].value_counts().sort_index(ascending=False)\n"
   ]
  },
  {
   "cell_type": "markdown",
   "metadata": {},
   "source": [
    "### Bucket conditions into Normal, near railroad and other"
   ]
  },
  {
   "cell_type": "code",
   "execution_count": 19,
   "metadata": {},
   "outputs": [
    {
     "data": {
      "image/png": "[encoded data removed]",
      "text/plain": [
       "<Figure size 1440x720 with 1 Axes>"
      ]
     },
     "metadata": {},
     "output_type": "display_data"
    }
   ],
   "source": [
    "corr_salePrice(['Condition1'])"
   ]
  },
  {
   "cell_type": "code",
   "execution_count": 20,
   "metadata": {},
   "outputs": [
    {
     "name": "stdout",
     "output_type": "stream",
     "text": [
      "Difference in Condition1 between training and test sets:  []\n"
     ]
    },
    {
     "data": {
      "text/plain": [
       "RRNn      5   \n",
       "RRNe      2   \n",
       "RRAn      26  \n",
       "RRAe      11  \n",
       "PosN      19  \n",
       "PosA      8   \n",
       "Norm      1260\n",
       "Feedr     81  \n",
       "Artery    48  \n",
       "Name: Condition1, dtype: int64"
      ]
     },
     "execution_count": 20,
     "metadata": {},
     "output_type": "execute_result"
    },
    {
     "data": {
      "text/plain": [
       "railroad    44  \n",
       "other       156 \n",
       "normal      1260\n",
       "Name: Condition1, dtype: int64"
      ]
     },
     "execution_count": 20,
     "metadata": {},
     "output_type": "execute_result"
    }
   ],
   "source": [
    "difference = list(set(data['Condition1'].unique()) - set(test['Condition1'].unique()))\n",
    "print (\"Difference in Condition1 between training and test sets: \" , difference)\n",
    "\n",
    "data['Condition1'].value_counts().sort_index(ascending=False)\n",
    "\n",
    "conditionMap = {}\n",
    "for rrn in ['RRNn','RRNe','RRAn', 'RRAe']:\n",
    "    conditionMap[rrn] = 'railroad'\n",
    "for norm in ['Norm']:\n",
    "    conditionMap[norm] = 'normal'\n",
    "for other in ['PosN','PosA','Feedr', 'Artery']:\n",
    "    conditionMap[other] = 'other'\n",
    "    \n",
    "data['Condition1'] = data['Condition1'].map(conditionMap)\n",
    "test['Condition1'] = test['Condition1'].map(conditionMap)\n",
    "\n",
    "data['Condition1'].value_counts().sort_index(ascending=False)"
   ]
  },
  {
   "cell_type": "code",
   "execution_count": 21,
   "metadata": {},
   "outputs": [
    {
     "data": {
      "image/png": "[encoded data removed]",
      "text/plain": [
       "<Figure size 1440x720 with 1 Axes>"
      ]
     },
     "metadata": {},
     "output_type": "display_data"
    }
   ],
   "source": [
    "corr_salePrice(['HouseStyle'])"
   ]
  },
  {
   "cell_type": "code",
   "execution_count": 22,
   "metadata": {},
   "outputs": [
    {
     "name": "stdout",
     "output_type": "stream",
     "text": [
      "Difference in LotShape between training and test sets:  []\n"
     ]
    },
    {
     "data": {
      "text/plain": [
       "IR3    10 \n",
       "IR2    41 \n",
       "IR1    484\n",
       "Reg    925\n",
       "Name: LotShape, dtype: int64"
      ]
     },
     "execution_count": 22,
     "metadata": {},
     "output_type": "execute_result"
    },
    {
     "data": {
      "text/plain": [
       "regular      925\n",
       "irregular    535\n",
       "Name: LotShape, dtype: int64"
      ]
     },
     "execution_count": 22,
     "metadata": {},
     "output_type": "execute_result"
    },
    {
     "data": {
      "image/png": "[encoded data removed]",
      "text/plain": [
       "<Figure size 1440x720 with 1 Axes>"
      ]
     },
     "metadata": {},
     "output_type": "display_data"
    }
   ],
   "source": [
    "difference = list(set(data['LotShape'].unique()) - set(test['LotShape'].unique()))\n",
    "print (\"Difference in LotShape between training and test sets: \" , difference)\n",
    "\n",
    "\n",
    "# data.dtypes\n",
    "data['LotShape'].value_counts().sort_values()\n",
    "\n",
    "corr_salePrice(['LotShape'])\n",
    "lotMap = {}\n",
    "for irreg in ['IR1','IR2','IR3']:\n",
    "    lotMap[irreg] = 'irregular'\n",
    "for reg in ['Reg']:\n",
    "    lotMap[reg] = 'regular'\n",
    "    \n",
    "data['LotShape'] = data['LotShape'].map(lotMap)\n",
    "test['LotShape'] = test['LotShape'].map(lotMap)\n",
    "\n",
    "data['LotShape'].value_counts().sort_index(ascending=False)\n",
    "corr_salePrice(['LotShape'])\n"
   ]
  },
  {
   "cell_type": "code",
   "execution_count": 23,
   "metadata": {},
   "outputs": [
    {
     "name": "stdout",
     "output_type": "stream",
     "text": [
      "Difference in LotConfig between training and test sets:  []\n"
     ]
    },
    {
     "data": {
      "text/plain": [
       "FR3        4   \n",
       "FR2        47  \n",
       "CulDSac    94  \n",
       "Corner     263 \n",
       "Inside     1052\n",
       "Name: LotConfig, dtype: int64"
      ]
     },
     "execution_count": 23,
     "metadata": {},
     "output_type": "execute_result"
    },
    {
     "data": {
      "text/plain": [
       "sideFrontage    51  \n",
       "Inside          1052\n",
       "CulDSac         94  \n",
       "Corner          263 \n",
       "Name: LotConfig, dtype: int64"
      ]
     },
     "execution_count": 23,
     "metadata": {},
     "output_type": "execute_result"
    },
    {
     "data": {
      "image/png": "[encoded data removed]",
      "text/plain": [
       "<Figure size 1440x720 with 1 Axes>"
      ]
     },
     "metadata": {},
     "output_type": "display_data"
    }
   ],
   "source": [
    "difference = list(set(data['LotConfig'].unique()) - set(test['LotConfig'].unique()))\n",
    "print (\"Difference in LotConfig between training and test sets: \" , difference)\n",
    "\n",
    "data['LotConfig'].value_counts().sort_values()\n",
    "\n",
    "corr_salePrice(['LotConfig'])\n",
    "\n",
    "configMap = {}\n",
    "for irreg in ['FR2','FR3']:\n",
    "    configMap[irreg] = 'sideFrontage'\n",
    "for reg in ['Inside','Corner', 'CulDSac']:\n",
    "    configMap[reg] = reg\n",
    "    \n",
    "data['LotConfig'] = data['LotConfig'].map(configMap)\n",
    "test['LotConfig'] = test['LotConfig'].map(configMap)\n",
    "\n",
    "data['LotConfig'].value_counts().sort_index(ascending=False)\n",
    "corr_salePrice(['LotConfig'])"
   ]
  },
  {
   "cell_type": "code",
   "execution_count": 24,
   "metadata": {},
   "outputs": [
    {
     "data": {
      "text/plain": [
       "1     2  \n",
       "2     3  \n",
       "10    18 \n",
       "3     20 \n",
       "9     43 \n",
       "4     116\n",
       "8     168\n",
       "7     319\n",
       "6     374\n",
       "5     397\n",
       "Name: OverallQual, dtype: int64"
      ]
     },
     "execution_count": 24,
     "metadata": {},
     "output_type": "execute_result"
    },
    {
     "data": {
      "text/plain": [
       "1    1  \n",
       "2    5  \n",
       "9    22 \n",
       "3    25 \n",
       "4    57 \n",
       "8    72 \n",
       "7    205\n",
       "6    252\n",
       "5    821\n",
       "Name: OverallCond, dtype: int64"
      ]
     },
     "execution_count": 24,
     "metadata": {},
     "output_type": "execute_result"
    },
    {
     "data": {
      "image/png": "[encoded data removed]",
      "text/plain": [
       "<Figure size 1440x720 with 1 Axes>"
      ]
     },
     "metadata": {},
     "output_type": "display_data"
    }
   ],
   "source": [
    "data['OverallQual'].value_counts().sort_values()\n",
    "corr_salePrice(['OverallQual'])\n",
    "data['OverallCond'].value_counts().sort_values()\n",
    "corr_salePrice(['OverallCond'])"
   ]
  },
  {
   "cell_type": "markdown",
   "metadata": {},
   "source": [
    "### To do - more bucketing?"
   ]
  },
  {
   "cell_type": "markdown",
   "metadata": {},
   "source": [
    "### Standardizing continuous columns - ?"
   ]
  },
  {
   "cell_type": "code",
   "execution_count": 25,
   "metadata": {},
   "outputs": [
    {
     "data": {
      "text/plain": [
       "(1460, 60)"
      ]
     },
     "execution_count": 25,
     "metadata": {},
     "output_type": "execute_result"
    },
    {
     "data": {
      "text/plain": [
       "(1459, 60)"
      ]
     },
     "execution_count": 25,
     "metadata": {},
     "output_type": "execute_result"
    }
   ],
   "source": [
    "data.drop(['SalePrice'], axis = 1, inplace = True)\n",
    "data.shape\n",
    "test.shape"
   ]
  },
  {
   "cell_type": "code",
   "execution_count": 26,
   "metadata": {},
   "outputs": [
    {
     "data": {
      "text/plain": [
       "MSSubClass       object \n",
       "MSZoning         object \n",
       "LotFrontage      float64\n",
       "LotArea          int64  \n",
       "LotShape         object \n",
       "LandContour      object \n",
       "LotConfig        object \n",
       "LandSlope        object \n",
       "Neighborhood     object \n",
       "Condition1       object \n",
       "BldgType         object \n",
       "HouseStyle       object \n",
       "OverallQual      object \n",
       "OverallCond      object \n",
       "YearBuilt        object \n",
       "YearRemodAdd     object \n",
       "RoofStyle        object \n",
       "Exterior1st      object \n",
       "Exterior2nd      object \n",
       "MasVnrType       object \n",
       "MasVnrArea       float64\n",
       "ExterQual        object \n",
       "ExterCond        object \n",
       "Foundation       object \n",
       "BsmtQual         object \n",
       "BsmtCond         object \n",
       "BsmtExposure     object \n",
       "BsmtFinType1     object \n",
       "BsmtFinSF1       int64  \n",
       "BsmtFinType2     object \n",
       "BsmtFinSF2       int64  \n",
       "BsmtUnfSF        int64  \n",
       "HeatingQC        object \n",
       "CentralAir       object \n",
       "Electrical       object \n",
       "1stFlrSF         int64  \n",
       "2ndFlrSF         int64  \n",
       "GrLivArea        int64  \n",
       "BsmtFullBath     int64  \n",
       "BsmtHalfBath     int64  \n",
       "FullBath         int64  \n",
       "HalfBath         int64  \n",
       "BedroomAbvGr     int64  \n",
       "KitchenQual      object \n",
       "Functional       object \n",
       "Fireplaces       int64  \n",
       "GarageType       object \n",
       "GarageFinish     object \n",
       "GarageCars       int64  \n",
       "GarageQual       object \n",
       "GarageCond       object \n",
       "PavedDrive       object \n",
       "WoodDeckSF       int64  \n",
       "OpenPorchSF      int64  \n",
       "EnclosedPorch    int64  \n",
       "ScreenPorch      int64  \n",
       "MoSold           object \n",
       "YrSold           object \n",
       "SaleType         object \n",
       "SaleCondition    object \n",
       "dtype: object"
      ]
     },
     "execution_count": 26,
     "metadata": {},
     "output_type": "execute_result"
    },
    {
     "data": {
      "text/html": [
       "<div>\n",
       "<style scoped>\n",
       "    .dataframe tbody tr th:only-of-type {\n",
       "        vertical-align: middle;\n",
       "    }\n",
       "\n",
       "    .dataframe tbody tr th {\n",
       "        vertical-align: top;\n",
       "    }\n",
       "\n",
       "    .dataframe thead th {\n",
       "        text-align: right;\n",
       "    }\n",
       "</style>\n",
       "<table border=\"1\" class=\"dataframe\">\n",
       "  <thead>\n",
       "    <tr style=\"text-align: right;\">\n",
       "      <th></th>\n",
       "      <th>LotFrontage</th>\n",
       "      <th>LotArea</th>\n",
       "      <th>MasVnrArea</th>\n",
       "      <th>BsmtFinSF1</th>\n",
       "      <th>BsmtFinSF2</th>\n",
       "      <th>BsmtUnfSF</th>\n",
       "      <th>1stFlrSF</th>\n",
       "      <th>2ndFlrSF</th>\n",
       "      <th>GrLivArea</th>\n",
       "      <th>BsmtFullBath</th>\n",
       "      <th>BsmtHalfBath</th>\n",
       "      <th>FullBath</th>\n",
       "      <th>HalfBath</th>\n",
       "      <th>BedroomAbvGr</th>\n",
       "      <th>Fireplaces</th>\n",
       "      <th>GarageCars</th>\n",
       "      <th>WoodDeckSF</th>\n",
       "      <th>OpenPorchSF</th>\n",
       "      <th>EnclosedPorch</th>\n",
       "      <th>ScreenPorch</th>\n",
       "    </tr>\n",
       "  </thead>\n",
       "  <tbody>\n",
       "    <tr>\n",
       "      <th>0</th>\n",
       "      <td>-0.241525</td>\n",
       "      <td>-0.207142</td>\n",
       "      <td>0.514104</td>\n",
       "      <td>0.575425</td>\n",
       "      <td>-0.288653</td>\n",
       "      <td>-0.944591</td>\n",
       "      <td>-0.793434</td>\n",
       "      <td>1.161852</td>\n",
       "      <td>0.370333</td>\n",
       "      <td>1.107810</td>\n",
       "      <td>-0.241061</td>\n",
       "      <td>0.789741</td>\n",
       "      <td>1.227585</td>\n",
       "      <td>0.163779</td>\n",
       "      <td>-0.951226</td>\n",
       "      <td>0.311725</td>\n",
       "      <td>-0.752176</td>\n",
       "      <td>0.216503</td>\n",
       "      <td>-0.359325</td>\n",
       "      <td>-0.270208</td>\n",
       "    </tr>\n",
       "    <tr>\n",
       "      <th>1</th>\n",
       "      <td>0.418140</td>\n",
       "      <td>-0.091886</td>\n",
       "      <td>-0.570750</td>\n",
       "      <td>1.171992</td>\n",
       "      <td>-0.288653</td>\n",
       "      <td>-0.641228</td>\n",
       "      <td>0.257140</td>\n",
       "      <td>-0.795163</td>\n",
       "      <td>-0.482512</td>\n",
       "      <td>-0.819964</td>\n",
       "      <td>3.948809</td>\n",
       "      <td>0.789741</td>\n",
       "      <td>-0.761621</td>\n",
       "      <td>0.163779</td>\n",
       "      <td>0.600495</td>\n",
       "      <td>0.311725</td>\n",
       "      <td>1.626195</td>\n",
       "      <td>-0.704483</td>\n",
       "      <td>-0.359325</td>\n",
       "      <td>-0.270208</td>\n",
       "    </tr>\n",
       "    <tr>\n",
       "      <th>2</th>\n",
       "      <td>-0.109592</td>\n",
       "      <td>0.073480</td>\n",
       "      <td>0.325915</td>\n",
       "      <td>0.092907</td>\n",
       "      <td>-0.288653</td>\n",
       "      <td>-0.301643</td>\n",
       "      <td>-0.627826</td>\n",
       "      <td>1.189351</td>\n",
       "      <td>0.515013</td>\n",
       "      <td>1.107810</td>\n",
       "      <td>-0.241061</td>\n",
       "      <td>0.789741</td>\n",
       "      <td>1.227585</td>\n",
       "      <td>0.163779</td>\n",
       "      <td>0.600495</td>\n",
       "      <td>0.311725</td>\n",
       "      <td>-0.752176</td>\n",
       "      <td>-0.070361</td>\n",
       "      <td>-0.359325</td>\n",
       "      <td>-0.270208</td>\n",
       "    </tr>\n",
       "    <tr>\n",
       "      <th>3</th>\n",
       "      <td>-0.461413</td>\n",
       "      <td>-0.096897</td>\n",
       "      <td>-0.570750</td>\n",
       "      <td>-0.499274</td>\n",
       "      <td>-0.288653</td>\n",
       "      <td>-0.061670</td>\n",
       "      <td>-0.521734</td>\n",
       "      <td>0.937276</td>\n",
       "      <td>0.383659</td>\n",
       "      <td>1.107810</td>\n",
       "      <td>-0.241061</td>\n",
       "      <td>-1.026041</td>\n",
       "      <td>-0.761621</td>\n",
       "      <td>0.163779</td>\n",
       "      <td>0.600495</td>\n",
       "      <td>1.650307</td>\n",
       "      <td>-0.752176</td>\n",
       "      <td>-0.176048</td>\n",
       "      <td>4.092524</td>\n",
       "      <td>-0.270208</td>\n",
       "    </tr>\n",
       "    <tr>\n",
       "      <th>4</th>\n",
       "      <td>0.594051</td>\n",
       "      <td>0.375148</td>\n",
       "      <td>1.366489</td>\n",
       "      <td>0.463568</td>\n",
       "      <td>-0.288653</td>\n",
       "      <td>-0.174865</td>\n",
       "      <td>-0.045611</td>\n",
       "      <td>1.617877</td>\n",
       "      <td>1.299326</td>\n",
       "      <td>1.107810</td>\n",
       "      <td>-0.241061</td>\n",
       "      <td>0.789741</td>\n",
       "      <td>1.227585</td>\n",
       "      <td>1.390023</td>\n",
       "      <td>0.600495</td>\n",
       "      <td>1.650307</td>\n",
       "      <td>0.780197</td>\n",
       "      <td>0.563760</td>\n",
       "      <td>-0.359325</td>\n",
       "      <td>-0.270208</td>\n",
       "    </tr>\n",
       "  </tbody>\n",
       "</table>\n",
       "</div>"
      ],
      "text/plain": [
       "   LotFrontage   LotArea  MasVnrArea  BsmtFinSF1  BsmtFinSF2  BsmtUnfSF  \\\n",
       "0 -0.241525    -0.207142  0.514104    0.575425   -0.288653   -0.944591    \n",
       "1  0.418140    -0.091886 -0.570750    1.171992   -0.288653   -0.641228    \n",
       "2 -0.109592     0.073480  0.325915    0.092907   -0.288653   -0.301643    \n",
       "3 -0.461413    -0.096897 -0.570750   -0.499274   -0.288653   -0.061670    \n",
       "4  0.594051     0.375148  1.366489    0.463568   -0.288653   -0.174865    \n",
       "\n",
       "   1stFlrSF  2ndFlrSF  GrLivArea  BsmtFullBath  BsmtHalfBath  FullBath  \\\n",
       "0 -0.793434  1.161852  0.370333   1.107810     -0.241061      0.789741   \n",
       "1  0.257140 -0.795163 -0.482512  -0.819964      3.948809      0.789741   \n",
       "2 -0.627826  1.189351  0.515013   1.107810     -0.241061      0.789741   \n",
       "3 -0.521734  0.937276  0.383659   1.107810     -0.241061     -1.026041   \n",
       "4 -0.045611  1.617877  1.299326   1.107810     -0.241061      0.789741   \n",
       "\n",
       "   HalfBath  BedroomAbvGr  Fireplaces  GarageCars  WoodDeckSF  OpenPorchSF  \\\n",
       "0  1.227585  0.163779     -0.951226    0.311725   -0.752176    0.216503      \n",
       "1 -0.761621  0.163779      0.600495    0.311725    1.626195   -0.704483      \n",
       "2  1.227585  0.163779      0.600495    0.311725   -0.752176   -0.070361      \n",
       "3 -0.761621  0.163779      0.600495    1.650307   -0.752176   -0.176048      \n",
       "4  1.227585  1.390023      0.600495    1.650307    0.780197    0.563760      \n",
       "\n",
       "   EnclosedPorch  ScreenPorch  \n",
       "0 -0.359325      -0.270208     \n",
       "1 -0.359325      -0.270208     \n",
       "2 -0.359325      -0.270208     \n",
       "3  4.092524      -0.270208     \n",
       "4 -0.359325      -0.270208     "
      ]
     },
     "execution_count": 26,
     "metadata": {},
     "output_type": "execute_result"
    },
    {
     "data": {
      "text/html": [
       "<div>\n",
       "<style scoped>\n",
       "    .dataframe tbody tr th:only-of-type {\n",
       "        vertical-align: middle;\n",
       "    }\n",
       "\n",
       "    .dataframe tbody tr th {\n",
       "        vertical-align: top;\n",
       "    }\n",
       "\n",
       "    .dataframe thead th {\n",
       "        text-align: right;\n",
       "    }\n",
       "</style>\n",
       "<table border=\"1\" class=\"dataframe\">\n",
       "  <thead>\n",
       "    <tr style=\"text-align: right;\">\n",
       "      <th></th>\n",
       "      <th>LotFrontage</th>\n",
       "      <th>LotArea</th>\n",
       "      <th>MasVnrArea</th>\n",
       "      <th>BsmtFinSF1</th>\n",
       "      <th>BsmtFinSF2</th>\n",
       "      <th>BsmtUnfSF</th>\n",
       "      <th>1stFlrSF</th>\n",
       "      <th>2ndFlrSF</th>\n",
       "      <th>GrLivArea</th>\n",
       "      <th>BsmtFullBath</th>\n",
       "      <th>BsmtHalfBath</th>\n",
       "      <th>FullBath</th>\n",
       "      <th>HalfBath</th>\n",
       "      <th>BedroomAbvGr</th>\n",
       "      <th>Fireplaces</th>\n",
       "      <th>GarageCars</th>\n",
       "      <th>WoodDeckSF</th>\n",
       "      <th>OpenPorchSF</th>\n",
       "      <th>EnclosedPorch</th>\n",
       "      <th>ScreenPorch</th>\n",
       "    </tr>\n",
       "  </thead>\n",
       "  <tbody>\n",
       "    <tr>\n",
       "      <th>0</th>\n",
       "      <td>-0.241310</td>\n",
       "      <td>0.363929</td>\n",
       "      <td>-0.563316</td>\n",
       "      <td>0.063936</td>\n",
       "      <td>0.517537</td>\n",
       "      <td>-0.649392</td>\n",
       "      <td>-0.654561</td>\n",
       "      <td>-0.775254</td>\n",
       "      <td>-1.215588</td>\n",
       "      <td>-0.818068</td>\n",
       "      <td>-0.25816</td>\n",
       "      <td>-1.028720</td>\n",
       "      <td>-0.751040</td>\n",
       "      <td>-1.029543</td>\n",
       "      <td>-0.898055</td>\n",
       "      <td>-0.988189</td>\n",
       "      <td>0.366678</td>\n",
       "      <td>-0.701628</td>\n",
       "      <td>-0.360738</td>\n",
       "      <td>1.818960</td>\n",
       "    </tr>\n",
       "    <tr>\n",
       "      <th>1</th>\n",
       "      <td>0.418139</td>\n",
       "      <td>0.897861</td>\n",
       "      <td>0.047057</td>\n",
       "      <td>1.063714</td>\n",
       "      <td>-0.297689</td>\n",
       "      <td>-0.338322</td>\n",
       "      <td>0.433298</td>\n",
       "      <td>-0.775254</td>\n",
       "      <td>-0.323539</td>\n",
       "      <td>-0.818068</td>\n",
       "      <td>-0.25816</td>\n",
       "      <td>-1.028720</td>\n",
       "      <td>1.237648</td>\n",
       "      <td>0.175997</td>\n",
       "      <td>-0.898055</td>\n",
       "      <td>-0.988189</td>\n",
       "      <td>2.347867</td>\n",
       "      <td>-0.178826</td>\n",
       "      <td>-0.360738</td>\n",
       "      <td>-0.301543</td>\n",
       "    </tr>\n",
       "    <tr>\n",
       "      <th>2</th>\n",
       "      <td>-0.109420</td>\n",
       "      <td>0.809646</td>\n",
       "      <td>-0.563316</td>\n",
       "      <td>0.773668</td>\n",
       "      <td>-0.297689</td>\n",
       "      <td>-0.953599</td>\n",
       "      <td>-0.574165</td>\n",
       "      <td>0.891944</td>\n",
       "      <td>0.294508</td>\n",
       "      <td>-0.818068</td>\n",
       "      <td>-0.25816</td>\n",
       "      <td>0.773083</td>\n",
       "      <td>1.237648</td>\n",
       "      <td>0.175997</td>\n",
       "      <td>0.647066</td>\n",
       "      <td>0.301406</td>\n",
       "      <td>0.930495</td>\n",
       "      <td>-0.207871</td>\n",
       "      <td>-0.360738</td>\n",
       "      <td>-0.301543</td>\n",
       "    </tr>\n",
       "    <tr>\n",
       "      <th>3</th>\n",
       "      <td>-0.461126</td>\n",
       "      <td>0.032064</td>\n",
       "      <td>-0.450284</td>\n",
       "      <td>0.358376</td>\n",
       "      <td>-0.297689</td>\n",
       "      <td>-0.525879</td>\n",
       "      <td>-0.579190</td>\n",
       "      <td>0.837243</td>\n",
       "      <td>0.243004</td>\n",
       "      <td>-0.818068</td>\n",
       "      <td>-0.25816</td>\n",
       "      <td>0.773083</td>\n",
       "      <td>1.237648</td>\n",
       "      <td>0.175997</td>\n",
       "      <td>0.647066</td>\n",
       "      <td>0.301406</td>\n",
       "      <td>2.089451</td>\n",
       "      <td>-0.178826</td>\n",
       "      <td>-0.360738</td>\n",
       "      <td>-0.301543</td>\n",
       "    </tr>\n",
       "    <tr>\n",
       "      <th>4</th>\n",
       "      <td>0.593991</td>\n",
       "      <td>-0.971808</td>\n",
       "      <td>-0.563316</td>\n",
       "      <td>-0.386513</td>\n",
       "      <td>-0.297689</td>\n",
       "      <td>1.059203</td>\n",
       "      <td>0.310192</td>\n",
       "      <td>-0.775254</td>\n",
       "      <td>-0.424487</td>\n",
       "      <td>-0.818068</td>\n",
       "      <td>-0.25816</td>\n",
       "      <td>0.773083</td>\n",
       "      <td>-0.751040</td>\n",
       "      <td>-1.029543</td>\n",
       "      <td>-0.898055</td>\n",
       "      <td>0.301406</td>\n",
       "      <td>-0.729632</td>\n",
       "      <td>0.489198</td>\n",
       "      <td>-0.360738</td>\n",
       "      <td>2.243060</td>\n",
       "    </tr>\n",
       "  </tbody>\n",
       "</table>\n",
       "</div>"
      ],
      "text/plain": [
       "   LotFrontage   LotArea  MasVnrArea  BsmtFinSF1  BsmtFinSF2  BsmtUnfSF  \\\n",
       "0 -0.241310     0.363929 -0.563316    0.063936    0.517537   -0.649392    \n",
       "1  0.418139     0.897861  0.047057    1.063714   -0.297689   -0.338322    \n",
       "2 -0.109420     0.809646 -0.563316    0.773668   -0.297689   -0.953599    \n",
       "3 -0.461126     0.032064 -0.450284    0.358376   -0.297689   -0.525879    \n",
       "4  0.593991    -0.971808 -0.563316   -0.386513   -0.297689    1.059203    \n",
       "\n",
       "   1stFlrSF  2ndFlrSF  GrLivArea  BsmtFullBath  BsmtHalfBath  FullBath  \\\n",
       "0 -0.654561 -0.775254 -1.215588  -0.818068     -0.25816      -1.028720   \n",
       "1  0.433298 -0.775254 -0.323539  -0.818068     -0.25816      -1.028720   \n",
       "2 -0.574165  0.891944  0.294508  -0.818068     -0.25816       0.773083   \n",
       "3 -0.579190  0.837243  0.243004  -0.818068     -0.25816       0.773083   \n",
       "4  0.310192 -0.775254 -0.424487  -0.818068     -0.25816       0.773083   \n",
       "\n",
       "   HalfBath  BedroomAbvGr  Fireplaces  GarageCars  WoodDeckSF  OpenPorchSF  \\\n",
       "0 -0.751040 -1.029543     -0.898055   -0.988189    0.366678   -0.701628      \n",
       "1  1.237648  0.175997     -0.898055   -0.988189    2.347867   -0.178826      \n",
       "2  1.237648  0.175997      0.647066    0.301406    0.930495   -0.207871      \n",
       "3  1.237648  0.175997      0.647066    0.301406    2.089451   -0.178826      \n",
       "4 -0.751040 -1.029543     -0.898055    0.301406   -0.729632    0.489198      \n",
       "\n",
       "   EnclosedPorch  ScreenPorch  \n",
       "0 -0.360738       1.818960     \n",
       "1 -0.360738      -0.301543     \n",
       "2 -0.360738      -0.301543     \n",
       "3 -0.360738      -0.301543     \n",
       "4 -0.360738       2.243060     "
      ]
     },
     "execution_count": 26,
     "metadata": {},
     "output_type": "execute_result"
    }
   ],
   "source": [
    "data.dtypes\n",
    "from sklearn.preprocessing import StandardScaler\n",
    "numCols = [col for col in data.columns if data[col].dtype in ['float64', 'int64']]\n",
    "scaler = StandardScaler()\n",
    "data[numCols] = scaler.fit_transform(data[numCols])\n",
    "test[numCols] = scaler.fit_transform(test[numCols])\n",
    "\n",
    "data[numCols].head()\n",
    "test[numCols].head()"
   ]
  },
  {
   "cell_type": "code",
   "execution_count": 27,
   "metadata": {},
   "outputs": [],
   "source": [
    "data = pd.get_dummies(data)\n",
    "test = pd.get_dummies(test)"
   ]
  },
  {
   "cell_type": "code",
   "execution_count": 28,
   "metadata": {},
   "outputs": [
    {
     "data": {
      "text/plain": [
       "(1460, 313)"
      ]
     },
     "execution_count": 28,
     "metadata": {},
     "output_type": "execute_result"
    },
    {
     "data": {
      "text/plain": [
       "(1459, 308)"
      ]
     },
     "execution_count": 28,
     "metadata": {},
     "output_type": "execute_result"
    },
    {
     "name": "stdout",
     "output_type": "stream",
     "text": [
      "Difference between training and test sets:  ['Exterior2nd_Other', 'YearBuilt_1870', 'Exterior1st_Stone', 'HouseStyle_2.5Fin', 'Electrical_Mix', 'Exterior1st_ImStucc']\n",
      "Difference between test and training sets:  ['MSSubClass_150']\n"
     ]
    },
    {
     "data": {
      "text/plain": [
       "(1460, 307)"
      ]
     },
     "execution_count": 28,
     "metadata": {},
     "output_type": "execute_result"
    },
    {
     "data": {
      "text/plain": [
       "(1459, 307)"
      ]
     },
     "execution_count": 28,
     "metadata": {},
     "output_type": "execute_result"
    }
   ],
   "source": [
    "data.shape\n",
    "test.shape\n",
    "\n",
    "difference = list(set(data.columns) - set(test.columns))\n",
    "print (\"Difference between training and test sets: \" , difference)\n",
    "data.drop(inplace = True, columns = difference, axis = 1)\n",
    "\n",
    "difference = list(set(test.columns) - set(data.columns))\n",
    "print (\"Difference between test and training sets: \" , difference)\n",
    "test.drop(inplace = True, columns = difference, axis = 1)\n",
    "\n",
    "data.shape\n",
    "test.shape"
   ]
  },
  {
   "cell_type": "code",
   "execution_count": 29,
   "metadata": {},
   "outputs": [
    {
     "name": "stderr",
     "output_type": "stream",
     "text": [
      "c:\\python27\\lib\\site-packages\\sklearn\\ensemble\\weight_boosting.py:29: DeprecationWarning: numpy.core.umath_tests is an internal NumPy module and should not be imported. It will be removed in a future NumPy release.\n",
      "  from numpy.core.umath_tests import inner1d\n"
     ]
    }
   ],
   "source": [
    "from sklearn.svm import SVR\n",
    "from sklearn.tree import DecisionTreeRegressor\n",
    "from sklearn.neural_network import MLPRegressor\n",
    "from sklearn.linear_model import BayesianRidge\n",
    "from sklearn.ensemble import BaggingRegressor\n",
    "from sklearn.ensemble import RandomForestRegressor\n",
    "from sklearn.ensemble import AdaBoostRegressor\n",
    "from sklearn.ensemble import GradientBoostingRegressor\n",
    "from xgboost import XGBRegressor\n",
    "from sklearn.metrics import make_scorer\n",
    "import itertools as it\n",
    "from sklearn.decomposition import PCA"
   ]
  },
  {
   "cell_type": "code",
   "execution_count": 30,
   "metadata": {},
   "outputs": [],
   "source": [
    "# # Split the dataset in two equal parts into 80:20 ratio for train:test\n",
    "X_train, X_test, y_train, y_test = train_test_split(\n",
    "    data, target, test_size=0.2, random_state=0)"
   ]
  },
  {
   "cell_type": "code",
   "execution_count": null,
   "metadata": {},
   "outputs": [
    {
     "name": "stdout",
     "output_type": "stream",
     "text": [
      "******************** PCA NUMBER:  80\n"
     ]
    },
    {
     "data": {
      "text/plain": [
       "PCA(copy=True, iterated_power='auto', n_components=80, random_state=None,\n",
       "  svd_solver='auto', tol=0.0, whiten=False)"
      ]
     },
     "execution_count": 31,
     "metadata": {},
     "output_type": "execute_result"
    },
    {
     "name": "stdout",
     "output_type": "stream",
     "text": [
      "******************** working on fitting  bagging\n",
      "Fitting 8 folds for each of 27 candidates, totalling 216 fits\n",
      "[CV] max_features=0.5, max_samples=0.7, base_estimator=None, n_estimators=150 \n",
      "[CV]  max_features=0.5, max_samples=0.7, base_estimator=None, n_estimators=150, total=   3.4s\n",
      "[CV] max_features=0.5, max_samples=0.7, base_estimator=None, n_estimators=150 \n"
     ]
    },
    {
     "name": "stderr",
     "output_type": "stream",
     "text": [
      "[Parallel(n_jobs=1)]: Done   1 out of   1 | elapsed:    3.5s remaining:    0.0s\n"
     ]
    },
    {
     "name": "stdout",
     "output_type": "stream",
     "text": [
      "[CV]  max_features=0.5, max_samples=0.7, base_estimator=None, n_estimators=150, total=   3.5s\n",
      "[CV] max_features=0.5, max_samples=0.7, base_estimator=None, n_estimators=150 \n",
      "[CV]  max_features=0.5, max_samples=0.7, base_estimator=None, n_estimators=150, total=   3.5s\n",
      "[CV] max_features=0.5, max_samples=0.7, base_estimator=None, n_estimators=150 \n",
      "[CV]  max_features=0.5, max_samples=0.7, base_estimator=None, n_estimators=150, total=   3.4s\n",
      "[CV] max_features=0.5, max_samples=0.7, base_estimator=None, n_estimators=150 \n",
      "[CV]  max_features=0.5, max_samples=0.7, base_estimator=None, n_estimators=150, total=   3.4s\n",
      "[CV] max_features=0.5, max_samples=0.7, base_estimator=None, n_estimators=150 \n",
      "[CV]  max_features=0.5, max_samples=0.7, base_estimator=None, n_estimators=150, total=   3.5s\n",
      "[CV] max_features=0.5, max_samples=0.7, base_estimator=None, n_estimators=150 \n",
      "[CV]  max_features=0.5, max_samples=0.7, base_estimator=None, n_estimators=150, total=   3.3s\n",
      "[CV] max_features=0.5, max_samples=0.7, base_estimator=None, n_estimators=150 \n",
      "[CV]  max_features=0.5, max_samples=0.7, base_estimator=None, n_estimators=150, total=   3.5s\n",
      "[CV] max_features=0.5, max_samples=0.7, base_estimator=None, n_estimators=250 \n",
      "[CV]  max_features=0.5, max_samples=0.7, base_estimator=None, n_estimators=250, total=   5.9s\n",
      "[CV] max_features=0.5, max_samples=0.7, base_estimator=None, n_estimators=250 \n",
      "[CV]  max_features=0.5, max_samples=0.7, base_estimator=None, n_estimators=250, total=   5.7s\n",
      "[CV] max_features=0.5, max_samples=0.7, base_estimator=None, n_estimators=250 \n",
      "[CV]  max_features=0.5, max_samples=0.7, base_estimator=None, n_estimators=250, total=   5.7s\n",
      "[CV] max_features=0.5, max_samples=0.7, base_estimator=None, n_estimators=250 \n",
      "[CV]  max_features=0.5, max_samples=0.7, base_estimator=None, n_estimators=250, total=   5.7s\n",
      "[CV] max_features=0.5, max_samples=0.7, base_estimator=None, n_estimators=250 \n",
      "[CV]  max_features=0.5, max_samples=0.7, base_estimator=None, n_estimators=250, total=   5.6s\n",
      "[CV] max_features=0.5, max_samples=0.7, base_estimator=None, n_estimators=250 \n",
      "[CV]  max_features=0.5, max_samples=0.7, base_estimator=None, n_estimators=250, total=   5.7s\n",
      "[CV] max_features=0.5, max_samples=0.7, base_estimator=None, n_estimators=250 \n",
      "[CV]  max_features=0.5, max_samples=0.7, base_estimator=None, n_estimators=250, total=   5.8s\n",
      "[CV] max_features=0.5, max_samples=0.7, base_estimator=None, n_estimators=250 \n",
      "[CV]  max_features=0.5, max_samples=0.7, base_estimator=None, n_estimators=250, total=   6.1s\n",
      "[CV] max_features=0.5, max_samples=0.7, base_estimator=None, n_estimators=300 \n",
      "[CV]  max_features=0.5, max_samples=0.7, base_estimator=None, n_estimators=300, total=   7.0s\n",
      "[CV] max_features=0.5, max_samples=0.7, base_estimator=None, n_estimators=300 \n",
      "[CV]  max_features=0.5, max_samples=0.7, base_estimator=None, n_estimators=300, total=   7.0s\n",
      "[CV] max_features=0.5, max_samples=0.7, base_estimator=None, n_estimators=300 \n"
     ]
    }
   ],
   "source": [
    "num_components = [80, 100, 150, 200, 250, 300]\n",
    "\n",
    "paramDict = {}\n",
    "modelDict = {}\n",
    "\n",
    "tuned_parameters_Bayes = [{'n_iter':[200, 500, 1000] , 'tol' : [1e-3, 1e-4, 5e-3], 'alpha_1':[1e-6, 1e-7, 5e-6], 'alpha_2':[1e-6, 1e-7, 5e-6], 'lambda_1':[1e-6, 1e-7, 5e-6], 'lambda_2':[1e-6, 1e-7, 5e-6]}]\n",
    "# tuned_parameters_Bayes = [{'n_iter':[200] , 'tol' : [1e-4], 'alpha_1':[5e-6], 'alpha_2':[1e-6], 'lambda_1':[1e-7], 'lambda_2':[1e-6]}]\n",
    "tuned_parameters_SVR = [{'kernel': ['rbf', 'linear', 'poly'], 'gamma': [1e-3, 1e-4], 'C': [1, 10, 100, 1000], 'degree':[1,2,3], 'max_iter':[-1, 200, 500, 1000]}]\n",
    "# tuned_parameters_SVR = [{'kernel': ['linear'], 'gamma': [1e-3], 'C': [1000], 'degree':[1], 'max_iter':[1000]}]\n",
    "tuned_parameters_DT = [{'max_depth': [5, 10, 20, 50, None], 'min_samples_split': [4, 6, 10], 'min_samples_leaf': [3, 5, 10], 'max_features': [None, 'sqrt', 'log2']}]\n",
    "# tuned_parameters_DT = [{'max_depth': [10], 'min_samples_split': [10], 'min_samples_leaf': [3], 'max_features': [None]}]\n",
    "# tuned_parameters_NN = [{'activation': ['identity', 'logistic', 'tanh', 'relu'], 'max_iter': [200, 500, 800], 'alpha': [1e-3, 1e-4, 5e-4], 'hidden_layer_sizes': [100, (50, 100)] + [x for x in it.product((50,100,150),repeat=3)], 'alpha': [1e-4, 5e-4, 1e-3]}]\n",
    "tuned_parameters_NN = [{'activation': ['relu'], 'max_iter': [500], 'alpha': [1e-4], 'hidden_layer_sizes': [(30,50,50,50,100)]}]\n",
    "tuned_parameters_Bagging = [{'base_estimator': [None], 'n_estimators':[150, 250, 300], 'max_samples':[.7, .5, 1], 'max_features':[.5, .8, 1] }]\n",
    "tuned_parameters_RF = [{'n_estimators':[100, 150, 250], 'max_depth': [2, 5, 8, 15, None], 'min_samples_split': [2, 4, 6], 'min_samples_leaf': [1, 3, 5], 'max_features': [None, 'sqrt', 'log2']}]\n",
    "# tuned_parameters_RF = [{'n_estimators':[150], 'max_depth': [15], 'min_samples_split': [2], 'min_samples_leaf': [1], 'max_features': [None]}]\n",
    "\n",
    "# tuned_parameters_Ada = [{'base_estimator': [SVR(), DecisionTreeRegressor(max_depth=3), DecisionTreeRegressor(max_depth=2)], 'loss': ['linear', 'square'], 'n_estimators':[20, 50, 80], 'learning_rate':[1., .8, 1.2]}]\n",
    "tuned_parameters_Ada = [{'base_estimator': [DecisionTreeRegressor(max_depth=3)], 'loss': ['linear', 'square'], 'n_estimators':[50, 80], 'learning_rate':[1., .8, 1.2]}]\n",
    "\n",
    "# tuned_parameters_GB = [{'n_estimators':[300], 'max_depth': [2, 3, 5, 7], 'learning_rate':[.1, .05, .2], 'min_samples_split': [2, 4, 6], 'min_samples_leaf': [1, 3, 5], 'max_features': [None, 'sqrt', 'log2']}]\n",
    "tuned_parameters_GB = [{'n_estimators':[200, 300], 'max_depth': [3, 4], 'learning_rate':[.1, .2, .05], 'min_samples_split': [2, 4, 6], 'min_samples_leaf': [1, 3, 5], 'max_features': [None, 'sqrt', 'log2']}]\n",
    "\n",
    "tuned_parameters_XGB = [{'n_estimators':[300], 'max_depth': [2, 3, 5, 7], 'booster': ['gbtree', 'gblinear'], 'max_delta_step': [2, 1, 0], 'learning_rate':[.1, .05, .2, .3]}]\n",
    "# tuned_parameters_XGB = [{'n_estimators':[300], 'max_depth': [3], 'booster': ['gbtree'], 'max_delta_step': [2], 'learning_rate':[.1]}]\n",
    "\n",
    "paramDict['bayes'] = tuned_parameters_Bayes\n",
    "paramDict['svr'] = tuned_parameters_SVR\n",
    "paramDict['decision tree'] = tuned_parameters_DT\n",
    "paramDict['neural_network'] = tuned_parameters_NN\n",
    "paramDict['bagging'] = tuned_parameters_Bagging\n",
    "paramDict['random forest'] = tuned_parameters_RF\n",
    "paramDict['adaboost'] = tuned_parameters_Ada\n",
    "paramDict['gradient boosting'] = tuned_parameters_GB\n",
    "paramDict['xgboost'] = tuned_parameters_XGB\n",
    "\n",
    "modelDict['bayes'] = BayesianRidge()\n",
    "modelDict['svr'] = SVR()\n",
    "modelDict['decision tree'] = DecisionTreeRegressor()\n",
    "# modelDict['neural_network'] = MLPRegressor()\n",
    "modelDict['bagging'] = BaggingRegressor()\n",
    "modelDict['random forest'] = RandomForestRegressor()\n",
    "modelDict['adaboost'] = AdaBoostRegressor()\n",
    "modelDict['gradient boosting'] = GradientBoostingRegressor()\n",
    "modelDict['xgboost'] = XGBRegressor()\n",
    "\n",
    "# We are going to limit ourselves to accuracy score, other options can be\n",
    "# seen here:\n",
    "# http://scikit-learn.org/stable/modules/model_evaluation.html#scoring-parameter\n",
    "# Some other values used are the predcision_macro, recall_macro\n",
    "# scores = ['accuracy']\n",
    "\n",
    "header = ['ALGORITHM','BEST PARAMETERS','BEST SCORE']\n",
    "model_results = []\n",
    "\n",
    "for comp in num_components:\n",
    "    print('******************** PCA NUMBER: ' , comp)\n",
    "    pca = PCA(n_components=comp)\n",
    "    pca.fit(data)\n",
    "    data_temp = pca.transform(data)\n",
    "\n",
    "    for model in modelDict:\n",
    "        print('******************** working on fitting ' , model)\n",
    "        row = []\n",
    "        row.append(model)\n",
    "\n",
    "        clf = GridSearchCV(modelDict[model], paramDict[model], cv=8, verbose=2,scoring='neg_mean_squared_log_error')\n",
    "        #clf.fit(X_train, y_train)\n",
    "        clf.fit(data_temp, target)\n",
    "\n",
    "        \n",
    "        clf.best_score_\n",
    "        clf.best_params_\n",
    "\n",
    "        row.append(str(clf.best_params_))\n",
    "        row.append(str(clf.best_score_))\n",
    "        row.append(str(comp))\n",
    "        # means = clf.cv_results_['mean_test_score']\n",
    "        # stds = clf.cv_results_['std_test_score']\n",
    "        # for mean, std, params in zip(means, stds, clf.cv_results_['params']):\n",
    "        #     print(\"%0.3f (+/-%0.03f) for %r\"\n",
    "        #           % (mean, std * 2, params))\n",
    "\n",
    "    #     y_true, y_pred = y_test, clf.predict(X_test)\n",
    "    #     print(classification_report(y_true, y_pred))\n",
    "    #     avg_precision = round(precision_recall_fscore_support(y_true, y_pred, average='weighted')[0], 3)\n",
    "    #     avg_recall = round(precision_recall_fscore_support(y_true, y_pred, average='weighted')[1], 3)\n",
    "    #     avg_fi = round(precision_recall_fscore_support(y_true, y_pred, average='weighted')[2], 3)\n",
    "    #     log_error = round(mean_squared_log_error(y_true, y_pred), 3)\n",
    "\n",
    "    #     row.append(log_error)\n",
    "\n",
    "        # print(confusion_matrix(y_true, y_pred))\n",
    "        model_results.append(row)\n",
    "\n",
    "    \n"
   ]
  },
  {
   "cell_type": "code",
   "execution_count": null,
   "metadata": {},
   "outputs": [],
   "source": [
    "model_results_array = np.array(model_results)\n",
    "output = pd.DataFrame(data = model_results_array, columns = header)\n",
    "output"
   ]
  },
  {
   "cell_type": "code",
   "execution_count": null,
   "metadata": {},
   "outputs": [],
   "source": [
    "# output.plot(x='ALGORITHM', y='BEST SCORE', kind=\"bar\")\n",
    "output.dtypes\n",
    "output = output.astype({\"BEST SCORE\": 'float64'})\n",
    "output['BEST SCORE'] = output['BEST SCORE'].abs()\n",
    "output.plot(x='ALGORITHM', y='BEST SCORE', kind=\"bar\", legend = False).set_ylabel(\"mean squared log error\")"
   ]
  },
  {
   "cell_type": "code",
   "execution_count": null,
   "metadata": {},
   "outputs": [],
   "source": [
    "# import csv\n",
    "# param_dist = {'learning_rate': 0.1, 'min_samples_leaf': 1, 'n_estimators': 300, 'min_samples_split': 2, 'max_features': 'sqrt', 'max_depth': 4}#{'alpha': 0.0001, 'activation': 'relu', 'max_iter': 500, 'hidden_layer_sizes': (30, 50, 50, 50, 100)}#{'n_estimators': 300, 'learning_rate': 0.1, 'max_delta_step': 2, 'max_depth': 3, 'booster': 'gbtree'}\n",
    "\n",
    "# clf = GradientBoostingRegressor(**param_dist)#MLPRegressor(**param_dist)#XGBRegressor(**param_dist)\n",
    "\n",
    "# # clf.fit(data, target,\n",
    "# #         eval_set=[(X_train, y_train), (X_test, y_test)],\n",
    "# #         eval_metric='logloss',\n",
    "# #         verbose=True)\n",
    "# clf.fit(data, target)\n",
    "\n",
    "\n",
    "# predictions = clf.predict(test)\n",
    "# with open('output.csv', mode='wb') as prediction_file:\n",
    "#     pred_writer = csv.writer(prediction_file, delimiter=',', quotechar='\"', quoting=csv.QUOTE_MINIMAL)\n",
    "#     pred_writer.writerow(['Id','SalePrice'])\n",
    "#     for i in range(0, len(predictions)):\n",
    "#         pred_writer.writerow([testIds[i],predictions[i]])"
   ]
  },
  {
   "cell_type": "code",
   "execution_count": null,
   "metadata": {},
   "outputs": [],
   "source": []
  }
 ],
 "metadata": {
  "kernelspec": {
   "display_name": "Python 2",
   "language": "python",
   "name": "python2"
  },
  "language_info": {
   "codemirror_mode": {
    "name": "ipython",
    "version": 2
   },
   "file_extension": ".py",
   "mimetype": "text/x-python",
   "name": "python",
   "nbconvert_exporter": "python",
   "pygments_lexer": "ipython2",
   "version": "2.7.15"
  }
 },
 "nbformat": 4,
 "nbformat_minor": 2
}

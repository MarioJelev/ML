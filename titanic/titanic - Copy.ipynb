{
 "cells": [
  {
   "cell_type": "code",
   "execution_count": null,
   "metadata": {},
   "outputs": [],
   "source": [
    "import pandas as pd\n",
    "import numpy as np\n",
    "import re\n",
    "import matplotlib.pyplot as plt\n",
    "import itertools as it\n",
    "from sklearn.ensemble import RandomForestClassifier\n",
    "from sklearn.neural_network import MLPClassifier\n",
    "from sklearn.model_selection import GridSearchCV\n",
    "from sklearn.svm import SVC\n",
    "%matplotlib inline\n",
    "from IPython.core.interactiveshell import InteractiveShell\n",
    "InteractiveShell.ast_node_interactivity = \"all\"\n",
    "from sklearn.model_selection import cross_val_score\n",
    "\n",
    "\n",
    "\n",
    "# df.shape\n",
    "# df.head()"
   ]
  },
  {
   "cell_type": "code",
   "execution_count": null,
   "metadata": {},
   "outputs": [],
   "source": [
    "df = pd.read_csv(\"train.csv\")\n",
    "dfTest = pd.read_csv(\"test.csv\")\n",
    "target = df['Survived']\n",
    "passId = dfTest['PassengerId']\n",
    "dfTest.drop(['PassengerId', 'Ticket'], axis =1, inplace = True)\n",
    "\n",
    "\n",
    "\n",
    "\n",
    "quasiConst = [col for col in df.columns if  ((df[col].dtype == 'int64' or df[col].dtype == 'float64') and df[col].std() == 0) or (df[col].dtype == 'object' and len(df[col].unique()) == 1 )]\n",
    "print(len(quasiConst))\n",
    "quasiConst"
   ]
  },
  {
   "cell_type": "code",
   "execution_count": null,
   "metadata": {},
   "outputs": [],
   "source": [
    "df.head(10)\n",
    "dfTest.head(30)\n"
   ]
  },
  {
   "cell_type": "code",
   "execution_count": null,
   "metadata": {},
   "outputs": [],
   "source": [
    "df.isnull().sum()\n",
    "dfTest.isnull().sum()\n",
    "\n",
    "dfTest[dfTest['Age'].isnull()]"
   ]
  },
  {
   "cell_type": "code",
   "execution_count": null,
   "metadata": {},
   "outputs": [],
   "source": [
    "df['Cabin'].fillna('Missing', inplace=True)\n",
    "print df.isnull().sum()\n",
    "df['Cabin'] = df['Cabin'].astype(str).str[0]\n",
    "dictMon = df.groupby(['Cabin'])['Survived'].mean().to_dict()\n",
    "df['Cabin'] = df['Cabin'].map(dictMon)\n",
    "\n",
    "dfTest['Cabin'].fillna('Missing', inplace=True)\n",
    "dfTest['Cabin'] = dfTest['Cabin'].astype(str).str[0]\n",
    "dfTest['Cabin'] = dfTest['Cabin'].map(dictMon)"
   ]
  },
  {
   "cell_type": "code",
   "execution_count": null,
   "metadata": {},
   "outputs": [],
   "source": [
    "df.loc[df['Embarked'].isnull()]\n",
    "df['Embarked'].value_counts().sort_values(ascending=False)\n",
    "domVal = df['Embarked'].value_counts().sort_values(ascending=False).index[0]\n",
    "df['Embarked'].fillna(value=domVal, inplace = True)\n",
    "df['Embarked'].value_counts().sort_values(ascending=False)\n",
    "df['Embarked'].value_counts(dropna = False).sort_values(ascending=False).plot(kind='bar')"
   ]
  },
  {
   "cell_type": "code",
   "execution_count": null,
   "metadata": {},
   "outputs": [],
   "source": [
    "dEmb = df.groupby(['Embarked'])['Survived'].mean().to_dict()\n",
    "df['Embarked'] = df['Embarked'].map(dEmb)\n",
    "dfTest['Embarked'] = dfTest['Embarked'].map(dEmb)"
   ]
  },
  {
   "cell_type": "code",
   "execution_count": null,
   "metadata": {},
   "outputs": [],
   "source": [
    "len(df['Ticket'].unique())\n",
    "df.drop(['Ticket'], inplace = True, axis = 1)\n",
    "df.head()"
   ]
  },
  {
   "cell_type": "code",
   "execution_count": null,
   "metadata": {},
   "outputs": [],
   "source": [
    "df['Fare'].value_counts().sort_index()\n",
    "plt.show()\n",
    "lstBins = [-1, 20, 40, 60, 80, 100, 150, 1000]\n",
    "df['Fare'] = pd.cut(df['Fare'], bins = lstBins, labels = range(1, len(lstBins)))\n",
    "\n",
    "dfTest['Fare'].value_counts().sort_index()\n",
    "dfTest['Fare'] = dfTest['Fare'].fillna(df['Fare'].value_counts().sort_values(ascending=False).index[0])\n",
    "dfTest['Fare'] = pd.cut(dfTest['Fare'], bins = lstBins, labels = range(1, len(lstBins)))\n"
   ]
  },
  {
   "cell_type": "code",
   "execution_count": null,
   "metadata": {},
   "outputs": [],
   "source": [
    "df['Name'] = df['Name'].str.split('[,.]').str[1]\n",
    "names = list(df['Name'].unique())\n",
    "print 'train, ' , names\n",
    "\n",
    "dfTest['Name'] = dfTest['Name'].str.split('[,.]').str[1]\n",
    "namesTest = list(dfTest['Name'].unique())\n",
    "print 'test, ' , namesTest"
   ]
  },
  {
   "cell_type": "code",
   "execution_count": null,
   "metadata": {},
   "outputs": [],
   "source": [
    "# for col in ['SibSp' , 'Parch']:\n",
    "#     plt.show()\n",
    "#     df.groupby([col])['Survived'].mean().plot(kind='bar')"
   ]
  },
  {
   "cell_type": "code",
   "execution_count": null,
   "metadata": {},
   "outputs": [],
   "source": [
    "# dAge = df.groupby('Name')['Age'].median()\n",
    "# df['Age_'] = df['Age'].fillna(df['Age'].map(dAge))\n",
    "# dfTest['Age_'] = dfTest['Age'].fillna(dfTest['Age'].map(dAge))\n",
    "dfTest['Age'].isnull().sum()\n",
    "df['Age'] = df.groupby(['Name'])['Age'].apply(lambda x: x.fillna(x.median()))\n",
    "dfTest['Age'] = dfTest.groupby(['Name'])['Age'].apply(lambda x: x.fillna(x.median()))\n",
    "\n",
    "val = dfTest['Age'].value_counts().sort_values(ascending=False).index[0]\n",
    "dfTest['Age'] = dfTest['Age'].fillna(val)\n",
    "\n",
    "dfTest['Age'].isnull().sum()\n",
    "\n",
    "df.head(20)\n",
    "dfTest.head(20)"
   ]
  },
  {
   "cell_type": "code",
   "execution_count": null,
   "metadata": {},
   "outputs": [],
   "source": [
    "df.groupby('Name')['Age'].mean().plot(kind='bar')\n",
    "plt.show()\n",
    "#dfTest.groupby('Name')['Age'].mean().plot(kind='bar')"
   ]
  },
  {
   "cell_type": "code",
   "execution_count": null,
   "metadata": {},
   "outputs": [],
   "source": [
    "dNameSurv = df.groupby(['Name'])['Survived'].mean().to_dict()\n",
    "dNameSurv\n",
    "df['Name'] = df['Name'].map(dNameSurv)\n",
    "dfTest['Name'] = dfTest['Name'].map(dNameSurv)\n",
    "df['Name'].median()\n",
    "\n",
    "dfTest['Name'] = dfTest['Name'].fillna(df['Name'].value_counts().sort_values(ascending=False).index[0])"
   ]
  },
  {
   "cell_type": "code",
   "execution_count": null,
   "metadata": {},
   "outputs": [],
   "source": [
    "# dNamesMap = {}\n",
    "# diffNames = list(set(names + namesTest))\n",
    "# for n in diffNames:\n",
    "#     if n in [' Miss', ' Mrs', ' Mr', ' Ms']:\n",
    "#         dNamesMap[n] = 1\n",
    "#     elif n in [' Mme', ' Mlle', ' Major', ' Col', ' Dr', ' Rev']:\n",
    "#         dNamesMap[n] = 2\n",
    "#     else:\n",
    "#         dNamesMap[n] = 3\n",
    "        \n",
    "# df['Name'] = df['Name'].map(dNamesMap)\n",
    "# dfTest['Name'] = dfTest['Name'].map(dNamesMap)"
   ]
  },
  {
   "cell_type": "code",
   "execution_count": null,
   "metadata": {},
   "outputs": [],
   "source": [
    "#df['Age'] = df.groupby(['Name'])['Age'].apply(lambda x: x.fillna(x.median()))"
   ]
  },
  {
   "cell_type": "code",
   "execution_count": null,
   "metadata": {},
   "outputs": [],
   "source": [
    "df['Female'] = np.where(df['Sex'] == 'female', 1, 0)\n",
    "df.drop(['Sex'], inplace = True, axis = 1)\n",
    "\n",
    "dfTest['Female'] = np.where(dfTest['Sex'] == 'female', 1, 0)\n",
    "dfTest.drop(['Sex'], inplace = True, axis = 1)"
   ]
  },
  {
   "cell_type": "code",
   "execution_count": null,
   "metadata": {},
   "outputs": [],
   "source": [
    "quasConstVars = []\n",
    "for col in df.columns:\n",
    "    domVal = (df[col].value_counts() / float(len(df))).sort_values(ascending=False).values[0]\n",
    "    print col, domVal\n",
    "    if domVal > .9:\n",
    "        quasConstVars.append(col)\n",
    "quasConstVars"
   ]
  },
  {
   "cell_type": "code",
   "execution_count": null,
   "metadata": {},
   "outputs": [],
   "source": []
  },
  {
   "cell_type": "code",
   "execution_count": null,
   "metadata": {},
   "outputs": [],
   "source": [
    "for col in df.columns:\n",
    "    print col\n",
    "    #plt.show()\n",
    "    #df[col].value_counts().sort_index(ascending=True).plot(kind='bar')\n",
    "    df[col].value_counts().sort_index(ascending=True)"
   ]
  },
  {
   "cell_type": "code",
   "execution_count": null,
   "metadata": {},
   "outputs": [],
   "source": [
    "dfTest['Age'].value_counts().sort_index()"
   ]
  },
  {
   "cell_type": "code",
   "execution_count": null,
   "metadata": {},
   "outputs": [],
   "source": [
    "dfTest.head(10)\n",
    "binAge = [-1] + [3*n for n in range(1,30)]\n",
    "\n",
    "len(range(1,18))\n",
    "len(binAge)\n",
    "df['Age'] = pd.cut(df.Age, bins = binAge, labels = range(1,len(binAge)))\n",
    "dfTest['Age'] = pd.cut(dfTest.Age, bins = binAge, labels = range(1,len(binAge)))\n",
    "dfTest.head(10)"
   ]
  },
  {
   "cell_type": "code",
   "execution_count": null,
   "metadata": {},
   "outputs": [],
   "source": [
    "df.corr().abs().unstack()[df.corr().abs().unstack() > .5]"
   ]
  },
  {
   "cell_type": "code",
   "execution_count": null,
   "metadata": {},
   "outputs": [],
   "source": [
    "df['Pclass'].unique()\n",
    "dfTest['Pclass'].unique()\n",
    "df.columns"
   ]
  },
  {
   "cell_type": "code",
   "execution_count": null,
   "metadata": {},
   "outputs": [],
   "source": [
    "df.drop(['Fare'], inplace = True, axis = 1)\n",
    "dfTest.drop(['Fare'], inplace = True, axis = 1)\n",
    "\n",
    "dClass = df.groupby(['Pclass'])['Survived'].mean().to_dict()\n",
    "\n",
    "\n",
    "\n",
    "df['Pclass'] = df['Pclass'].map(dClass)\n",
    "dfTest['Pclass'] = dfTest['Pclass'].map(dClass)\n",
    "\n",
    "\n",
    "\n",
    "df.drop(['Survived', 'PassengerId'] , axis = 1, inplace = True)\n",
    "\n",
    "df.isnull().sum()\n",
    "dfTest.isnull().sum()"
   ]
  },
  {
   "cell_type": "code",
   "execution_count": null,
   "metadata": {},
   "outputs": [],
   "source": [
    "df['Family'] = np.where(np.logical_or(df['SibSp'] > 0, df['Parch'] > 0 ), 1, 0)\n",
    "dfTest['Family'] = np.where(np.logical_or(dfTest['SibSp'] > 0, dfTest['Parch'] > 0 ), 1, 0)\n",
    "\n",
    "df.drop(['SibSp', 'Parch'] , axis = 1, inplace = True)\n",
    "dfTest.drop(['SibSp', 'Parch'] , axis = 1, inplace = True)\n",
    "\n",
    "dfTest.head(10)\n",
    "df.head(10)"
   ]
  },
  {
   "cell_type": "code",
   "execution_count": null,
   "metadata": {},
   "outputs": [],
   "source": [
    "# nEst = range(1, 50)\n",
    "# mD = range(1, 50)\n",
    "# min_split = (2, 50)\n",
    "# param_grid = dict(max_depth = mD, min_samples_split = min_split, n_estimators = nEst)\n",
    "# grid = GridSearchCV(RandomForestClassifier(random_state=0), param_grid, cv = 10, scoring = 'accuracy', verbose = 4)\n",
    "\n",
    "# grid.fit(df, target)\n",
    "# print grid.best_score_\n",
    "# print grid.best_params_\n"
   ]
  },
  {
   "cell_type": "code",
   "execution_count": null,
   "metadata": {},
   "outputs": [],
   "source": [
    "# sol = ['adam', 'lbfgs']\n",
    "# act = ['identity', 'logistic', 'tanh', 'relu']\n",
    "# maxit = [200, 400]\n",
    "# hid = range(1, 6) + [x for x in it.product((1, 2, 3, 4),repeat=2)]\n",
    "# param_grid = dict(solver = sol, activation = act, max_iter = maxit, hidden_layer_sizes = hid)\n",
    "# grid = GridSearchCV(MLPClassifier(random_state=0), param_grid, cv = 10, scoring = 'accuracy', verbose = 4)\n",
    "\n",
    "# grid.fit(df, target)\n",
    "# print grid.best_score_\n",
    "# print grid.best_params_"
   ]
  },
  {
   "cell_type": "code",
   "execution_count": null,
   "metadata": {},
   "outputs": [],
   "source": [
    "# sol = ['lbfgs']\n",
    "# act = ['logistic']\n",
    "# maxit = [200, 400]\n",
    "# hid = range(6, 10) + [x for x in it.product((5, 6, 7),repeat=2)]\n",
    "# param_grid = dict(solver = sol, activation = act, max_iter = maxit, hidden_layer_sizes = hid)\n",
    "# grid = GridSearchCV(MLPClassifier(random_state=0), param_grid, cv = 10, scoring = 'accuracy', verbose = 4)\n",
    "# grid.fit(df, target)\n",
    "# print grid.best_score_\n",
    "# print grid.best_params_"
   ]
  },
  {
   "cell_type": "code",
   "execution_count": null,
   "metadata": {},
   "outputs": [],
   "source": [
    "c = [.8, 1, 1.2]\n",
    "ker = ['rbf','linear' , 'poly', 'sigmoid']\n",
    "gam = ['auto', .3, .5, .8]\n",
    "deg = [1, 2]\n",
    "coef = [0.0, 0.2, 0.5]\n",
    "boolean = [True, False]\n",
    "\n",
    "param_grid = dict(C = c, kernel = ker, gamma = gam, degree = deg, coef0 = coef, shrinking = boolean, probability = boolean)\n",
    "grid = GridSearchCV(SVC(random_state=0), param_grid, cv = 10, scoring = 'accuracy', verbose = 6)\n",
    "\n",
    "grid.fit(df, target)\n",
    "print grid.best_score_\n",
    "print grid.best_params_"
   ]
  },
  {
   "cell_type": "code",
   "execution_count": null,
   "metadata": {},
   "outputs": [],
   "source": [
    "# .7945\n",
    "# clf = SVC(kernel= 'poly', C = 0.8, probability =  True, degree = 2, shrinking = True, coef0 = 0.2, gamma = 0.5, random_state=0)#.fit(dfMergedTrain, target) \n",
    "# scores = cross_val_score(clf, df, target, cv=10)\n",
    "# print(\"Accuracy: %0.2f (+/- %0.2f)\" % (scores.mean(), scores.std() * 2)) #Accuracy: 0.70 (+/- 0.00)"
   ]
  },
  {
   "cell_type": "code",
   "execution_count": null,
   "metadata": {},
   "outputs": [],
   "source": [
    "# clf = SVC(kernel= 'poly', C = 0.8, probability =  True, degree = 2, shrinking = True, coef0 = 0.2, gamma = 0.5, random_state=0)#.fit(dfMergedTrain, target) \n",
    "# scores = cross_val_score(clf, df, target, cv=10)\n",
    "# print(\"Accuracy: %0.2f (+/- %0.2f)\" % (scores.mean(), scores.std() * 2)) #Accuracy: 0.70 (+/- 0.00)"
   ]
  },
  {
   "cell_type": "code",
   "execution_count": null,
   "metadata": {},
   "outputs": [],
   "source": [
    "# clf = SVC(kernel= 'poly', C = 0.8, probability =  True, degree = 2, shrinking = True, coef0 = 0.2, gamma = 0.5, random_state=0).fit(df, target) # 65%\n",
    "# # clf = MLPClassifier(activation='identity', max_iter=700, solver='adam', hidden_layer_sizes=(2, 4), random_state=0).fit(dfMergedTrain, target)\n",
    "# predArray = clf.predict(dfTest)\n",
    "# #updatedTestArray = array(dfTest.iloc[:, :])\n",
    "# with open(\"output.csv\",\"w\") as f:\n",
    "#     f.write(\"PassengerId,Survived\\n\")\n",
    "#     for x in range(0, len(predArray)):\n",
    "#         predVal = predArray[x]\n",
    "#         # f.write(str(dfMergedTest.iloc[x,1]) + \",\" + str(predVal)[1:-1] +\"\\n\")\n",
    "#         f.write(str(passId[x]) + \",\" + str(predVal) +\"\\n\")\n",
    "#         # f.write(str(buildingId[x]) + \",\" + str(1) +\"\\n\")"
   ]
  },
  {
   "cell_type": "code",
   "execution_count": null,
   "metadata": {},
   "outputs": [],
   "source": []
  }
 ],
 "metadata": {
  "kernelspec": {
   "display_name": "Python 2",
   "language": "python",
   "name": "python2"
  },
  "language_info": {
   "codemirror_mode": {
    "name": "ipython",
    "version": 2
   },
   "file_extension": ".py",
   "mimetype": "text/x-python",
   "name": "python",
   "nbconvert_exporter": "python",
   "pygments_lexer": "ipython2",
   "version": "2.7.15"
  }
 },
 "nbformat": 4,
 "nbformat_minor": 2
}
